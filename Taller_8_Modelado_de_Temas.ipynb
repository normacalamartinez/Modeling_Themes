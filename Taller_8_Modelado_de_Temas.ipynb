{
 "cells": [
  {
   "cell_type": "markdown",
   "metadata": {},
   "source": [
    " # TALLER 8, Modelado de temas 🧛‍♂️"
   ]
  },
  {
   "cell_type": "markdown",
   "metadata": {},
   "source": [
    "<br><b>Creador:</b> Norma Yuliana Cala Martínez\n",
    "<br><b>Email: </b> normisss11@gmail.com\n",
    "<br><b>Fecha creacion:</b> 👻  Octubre 24, 2020 👻 "
   ]
  },
  {
   "cell_type": "markdown",
   "metadata": {},
   "source": [
    "### Temas del taller.\n",
    "#### Punto 1:\n",
    "    a. Hacer pre-procesamiento del texto\n",
    "#### Punto 2:\n",
    "    a. Modelo de LDA\n",
    "#### Punto 3:\n",
    "    a. Visualización de LDA"
   ]
  },
  {
   "cell_type": "markdown",
   "metadata": {},
   "source": [
    "## Solución de taller Modelado de temas."
   ]
  },
  {
   "cell_type": "markdown",
   "metadata": {},
   "source": [
    "#### 💪Código para eliminar las alertas en las impresiones."
   ]
  },
  {
   "cell_type": "code",
   "execution_count": 1,
   "metadata": {},
   "outputs": [],
   "source": [
    "import warnings\n",
    "warnings.filterwarnings(\"ignore\", category=DeprecationWarning)"
   ]
  },
  {
   "cell_type": "markdown",
   "metadata": {},
   "source": [
    "### Librerías importantes para trabajar."
   ]
  },
  {
   "cell_type": "markdown",
   "metadata": {},
   "source": [
    "#### 👩‍💻 Cargando librerías"
   ]
  },
  {
   "cell_type": "code",
   "execution_count": 2,
   "metadata": {},
   "outputs": [
    {
     "name": "stderr",
     "output_type": "stream",
     "text": [
      "C:\\ProgramData\\Anaconda3\\lib\\site-packages\\scipy\\sparse\\sparsetools.py:21: DeprecationWarning: `scipy.sparse.sparsetools` is deprecated!\n",
      "scipy.sparse.sparsetools is a private module for scipy.sparse, and should not be used.\n",
      "  _deprecated()\n"
     ]
    }
   ],
   "source": [
    "import re\n",
    "import pandas as pd \n",
    "from pprint import pprint\n",
    "\n",
    "from nltk.corpus import stopwords\n",
    "stopwords = stopwords.words('spanish')\n",
    "\n",
    "## ! pip install pyLDAvis\n",
    "import pyLDAvis.gensim\n",
    "from gensim.models import LdaModel\n",
    "from gensim.corpora import Dictionary\n",
    "\n",
    "import warnings\n",
    "warnings.filterwarnings(\"ignore\", category=DeprecationWarning)"
   ]
  },
  {
   "cell_type": "markdown",
   "metadata": {},
   "source": [
    "### ⬆️ Cargar datos reviews_vidjew_es"
   ]
  },
  {
   "cell_type": "code",
   "execution_count": 3,
   "metadata": {},
   "outputs": [
    {
     "name": "stdout",
     "output_type": "stream",
     "text": [
      "Tenemos => 1,000 Registros.\n"
     ]
    },
    {
     "data": {
      "text/html": [
       "<div>\n",
       "<style scoped>\n",
       "    .dataframe tbody tr th:only-of-type {\n",
       "        vertical-align: middle;\n",
       "    }\n",
       "\n",
       "    .dataframe tbody tr th {\n",
       "        vertical-align: top;\n",
       "    }\n",
       "\n",
       "    .dataframe thead th {\n",
       "        text-align: right;\n",
       "    }\n",
       "</style>\n",
       "<table border=\"1\" class=\"dataframe\">\n",
       "  <thead>\n",
       "    <tr style=\"text-align: right;\">\n",
       "      <th></th>\n",
       "      <th>review_id</th>\n",
       "      <th>product_id</th>\n",
       "      <th>reviewer_id</th>\n",
       "      <th>stars</th>\n",
       "      <th>review_body</th>\n",
       "      <th>review_title</th>\n",
       "      <th>language</th>\n",
       "      <th>product_category</th>\n",
       "    </tr>\n",
       "  </thead>\n",
       "  <tbody>\n",
       "    <tr>\n",
       "      <th>0</th>\n",
       "      <td>es_0825565</td>\n",
       "      <td>product_es_0370490</td>\n",
       "      <td>reviewer_es_0174781</td>\n",
       "      <td>3</td>\n",
       "      <td>Buen. Buena calidad, y buena presentación.</td>\n",
       "      <td>Contenta</td>\n",
       "      <td>es</td>\n",
       "      <td>jewelry</td>\n",
       "    </tr>\n",
       "    <tr>\n",
       "      <th>1</th>\n",
       "      <td>es_0227934</td>\n",
       "      <td>product_es_0354224</td>\n",
       "      <td>reviewer_es_0411613</td>\n",
       "      <td>3</td>\n",
       "      <td>Un producto a perfecto, para salir de casa con...</td>\n",
       "      <td>Versatilidad</td>\n",
       "      <td>es</td>\n",
       "      <td>video_games</td>\n",
       "    </tr>\n",
       "    <tr>\n",
       "      <th>2</th>\n",
       "      <td>es_0468601</td>\n",
       "      <td>product_es_0665460</td>\n",
       "      <td>reviewer_es_0348315</td>\n",
       "      <td>1</td>\n",
       "      <td>No funciona con Nintendo Switch. No hay forma ...</td>\n",
       "      <td>Decepción absoluta</td>\n",
       "      <td>es</td>\n",
       "      <td>video_games</td>\n",
       "    </tr>\n",
       "    <tr>\n",
       "      <th>3</th>\n",
       "      <td>es_0814494</td>\n",
       "      <td>product_es_0692692</td>\n",
       "      <td>reviewer_es_0951508</td>\n",
       "      <td>5</td>\n",
       "      <td>Recomendado, los utilizo para pc y no me dan n...</td>\n",
       "      <td>Auriculares Pecham ps4</td>\n",
       "      <td>es</td>\n",
       "      <td>video_games</td>\n",
       "    </tr>\n",
       "    <tr>\n",
       "      <th>4</th>\n",
       "      <td>es_0206329</td>\n",
       "      <td>product_es_0728826</td>\n",
       "      <td>reviewer_es_0493255</td>\n",
       "      <td>4</td>\n",
       "      <td>El cable funciona bien podria ser un poco mas ...</td>\n",
       "      <td>Perfecto</td>\n",
       "      <td>es</td>\n",
       "      <td>video_games</td>\n",
       "    </tr>\n",
       "  </tbody>\n",
       "</table>\n",
       "</div>"
      ],
      "text/plain": [
       "    review_id          product_id          reviewer_id  stars  \\\n",
       "0  es_0825565  product_es_0370490  reviewer_es_0174781      3   \n",
       "1  es_0227934  product_es_0354224  reviewer_es_0411613      3   \n",
       "2  es_0468601  product_es_0665460  reviewer_es_0348315      1   \n",
       "3  es_0814494  product_es_0692692  reviewer_es_0951508      5   \n",
       "4  es_0206329  product_es_0728826  reviewer_es_0493255      4   \n",
       "\n",
       "                                         review_body            review_title  \\\n",
       "0         Buen. Buena calidad, y buena presentación.                Contenta   \n",
       "1  Un producto a perfecto, para salir de casa con...            Versatilidad   \n",
       "2  No funciona con Nintendo Switch. No hay forma ...      Decepción absoluta   \n",
       "3  Recomendado, los utilizo para pc y no me dan n...  Auriculares Pecham ps4   \n",
       "4  El cable funciona bien podria ser un poco mas ...                Perfecto   \n",
       "\n",
       "  language product_category  \n",
       "0       es          jewelry  \n",
       "1       es      video_games  \n",
       "2       es      video_games  \n",
       "3       es      video_games  \n",
       "4       es      video_games  "
      ]
     },
     "execution_count": 3,
     "metadata": {},
     "output_type": "execute_result"
    }
   ],
   "source": [
    "path = 'Taller8/reviews_vidjew_es.csv'\n",
    "data = pd.read_csv(path)\n",
    "print(f\"Tenemos => {data.shape[0]:,d} Registros.\")\n",
    "data.head()"
   ]
  },
  {
   "cell_type": "markdown",
   "metadata": {},
   "source": [
    "### 🔁 Punto 1\n",
    "a. Hacer pre-procesamiento del texto"
   ]
  },
  {
   "cell_type": "code",
   "execution_count": 4,
   "metadata": {},
   "outputs": [
    {
     "data": {
      "text/html": [
       "<div>\n",
       "<style scoped>\n",
       "    .dataframe tbody tr th:only-of-type {\n",
       "        vertical-align: middle;\n",
       "    }\n",
       "\n",
       "    .dataframe tbody tr th {\n",
       "        vertical-align: top;\n",
       "    }\n",
       "\n",
       "    .dataframe thead th {\n",
       "        text-align: right;\n",
       "    }\n",
       "</style>\n",
       "<table border=\"1\" class=\"dataframe\">\n",
       "  <thead>\n",
       "    <tr style=\"text-align: right;\">\n",
       "      <th></th>\n",
       "      <th>review_id</th>\n",
       "      <th>product_id</th>\n",
       "      <th>reviewer_id</th>\n",
       "      <th>stars</th>\n",
       "      <th>review_body</th>\n",
       "      <th>review_title</th>\n",
       "      <th>language</th>\n",
       "      <th>product_category</th>\n",
       "      <th>Processed</th>\n",
       "    </tr>\n",
       "  </thead>\n",
       "  <tbody>\n",
       "    <tr>\n",
       "      <th>0</th>\n",
       "      <td>es_0825565</td>\n",
       "      <td>product_es_0370490</td>\n",
       "      <td>reviewer_es_0174781</td>\n",
       "      <td>3</td>\n",
       "      <td>Buen. Buena calidad, y buena presentación.</td>\n",
       "      <td>Contenta</td>\n",
       "      <td>es</td>\n",
       "      <td>jewelry</td>\n",
       "      <td>[buen, buena, calidad, buena, presentación]</td>\n",
       "    </tr>\n",
       "    <tr>\n",
       "      <th>1</th>\n",
       "      <td>es_0227934</td>\n",
       "      <td>product_es_0354224</td>\n",
       "      <td>reviewer_es_0411613</td>\n",
       "      <td>3</td>\n",
       "      <td>Un producto a perfecto, para salir de casa con...</td>\n",
       "      <td>Versatilidad</td>\n",
       "      <td>es</td>\n",
       "      <td>video_games</td>\n",
       "      <td>[producto, perfecto, salir, casa, nintendo, sw...</td>\n",
       "    </tr>\n",
       "    <tr>\n",
       "      <th>2</th>\n",
       "      <td>es_0468601</td>\n",
       "      <td>product_es_0665460</td>\n",
       "      <td>reviewer_es_0348315</td>\n",
       "      <td>1</td>\n",
       "      <td>No funciona con Nintendo Switch. No hay forma ...</td>\n",
       "      <td>Decepción absoluta</td>\n",
       "      <td>es</td>\n",
       "      <td>video_games</td>\n",
       "      <td>[funciona, nintendo, switch, forma, emparejarl...</td>\n",
       "    </tr>\n",
       "  </tbody>\n",
       "</table>\n",
       "</div>"
      ],
      "text/plain": [
       "    review_id          product_id          reviewer_id  stars  \\\n",
       "0  es_0825565  product_es_0370490  reviewer_es_0174781      3   \n",
       "1  es_0227934  product_es_0354224  reviewer_es_0411613      3   \n",
       "2  es_0468601  product_es_0665460  reviewer_es_0348315      1   \n",
       "\n",
       "                                         review_body        review_title  \\\n",
       "0         Buen. Buena calidad, y buena presentación.            Contenta   \n",
       "1  Un producto a perfecto, para salir de casa con...        Versatilidad   \n",
       "2  No funciona con Nintendo Switch. No hay forma ...  Decepción absoluta   \n",
       "\n",
       "  language product_category                                          Processed  \n",
       "0       es          jewelry        [buen, buena, calidad, buena, presentación]  \n",
       "1       es      video_games  [producto, perfecto, salir, casa, nintendo, sw...  \n",
       "2       es      video_games  [funciona, nintendo, switch, forma, emparejarl...  "
      ]
     },
     "execution_count": 4,
     "metadata": {},
     "output_type": "execute_result"
    }
   ],
   "source": [
    "def pre_procesado(texto):\n",
    "    texto = texto.lower()\n",
    "    texto = re.sub(r\"[\\W\\d_]+\", \" \", texto)\n",
    "    texto = [palabra for palabra in texto.split() if palabra not in stopwords]\n",
    "    return texto\n",
    "data['Processed'] = data['review_body'].apply(lambda texto: pre_procesado(texto))\n",
    "data.head(3)"
   ]
  },
  {
   "cell_type": "markdown",
   "metadata": {},
   "source": [
    "### 🔁 Punto 2\n",
    "a. Modelo de LDA"
   ]
  },
  {
   "cell_type": "markdown",
   "metadata": {},
   "source": [
    "##### 👩‍🏫 Entrenar el modelo"
   ]
  },
  {
   "cell_type": "code",
   "execution_count": 5,
   "metadata": {},
   "outputs": [],
   "source": [
    "# Crear una representación de los documentos en forma de diccionario\n",
    "dictionary = Dictionary(data['Processed'].values)\n",
    "\n",
    "# Filtrar palabras muy frecuentes y poco frecuentes\n",
    "dictionary.filter_extremes(no_below=5, no_above=0.5) \n",
    "\n",
    "corpus = [dictionary.doc2bow(text) for text in data['Processed'].values]\n",
    "\n",
    "# Train the topic model -- las passes son importantes si le pones mucho se demora\n",
    "model = LdaModel(corpus=corpus, id2word=dictionary, num_topics=7, passes=100)"
   ]
  },
  {
   "cell_type": "markdown",
   "metadata": {},
   "source": [
    "#### 👁‍🗨 Visualizando resultados."
   ]
  },
  {
   "cell_type": "code",
   "execution_count": 6,
   "metadata": {},
   "outputs": [
    {
     "data": {
      "text/plain": [
       "[(0,\n",
       "  '0.043*\"perfecto\" + 0.028*\"juego\" + 0.024*\"producto\" + 0.022*\"dos\" + 0.020*\"días\" + 0.018*\"buen\" + 0.017*\"hijo\" + 0.017*\"material\" + 0.016*\"juegos\" + 0.015*\"perfectamente\"'),\n",
       " (1,\n",
       "  '0.060*\"juego\" + 0.025*\"pena\" + 0.018*\"si\" + 0.018*\"precio\" + 0.015*\"caja\" + 0.014*\"amazon\" + 0.014*\"menos\" + 0.013*\"español\" + 0.013*\"mal\" + 0.013*\"así\"'),\n",
       " (2,\n",
       "  '0.047*\"llegado\" + 0.042*\"día\" + 0.041*\"producto\" + 0.024*\"pedido\" + 0.015*\"entregado\" + 0.014*\"llegó\" + 0.014*\"pedí\" + 0.014*\"caja\" + 0.014*\"vendedor\" + 0.013*\"ser\"'),\n",
       " (3,\n",
       "  '0.046*\"mas\" + 0.028*\"llego\" + 0.027*\"bien\" + 0.022*\"mando\" + 0.022*\"si\" + 0.018*\"puede\" + 0.016*\"producto\" + 0.016*\"q\" + 0.015*\"verdad\" + 0.015*\"parece\"'),\n",
       " (4,\n",
       "  '0.086*\"calidad\" + 0.054*\"precio\" + 0.049*\"buena\" + 0.033*\"buen\" + 0.031*\"bien\" + 0.027*\"bastante\" + 0.022*\"ps\" + 0.020*\"puede\" + 0.018*\"mala\" + 0.018*\"si\"'),\n",
       " (5,\n",
       "  '0.050*\"bien\" + 0.041*\"bonito\" + 0.026*\"bonitos\" + 0.026*\"regalo\" + 0.025*\"pulsera\" + 0.023*\"plata\" + 0.023*\"foto\" + 0.021*\"tamaño\" + 0.018*\"queda\" + 0.017*\"cadena\"'),\n",
       " (6,\n",
       "  '0.029*\"bien\" + 0.029*\"si\" + 0.020*\"tiempo\" + 0.019*\"juego\" + 0.016*\"nintendo\" + 0.016*\"solo\" + 0.015*\"switch\" + 0.015*\"después\" + 0.013*\"va\" + 0.013*\"uso\"')]"
      ]
     },
     "execution_count": 6,
     "metadata": {},
     "output_type": "execute_result"
    }
   ],
   "source": [
    "model.print_topics(num_words=10)"
   ]
  },
  {
   "cell_type": "code",
   "execution_count": 7,
   "metadata": {},
   "outputs": [
    {
     "data": {
      "text/plain": [
       "[(0, 0.02858996),\n",
       " (1, 0.028588828),\n",
       " (2, 0.028609129),\n",
       " (3, 0.028595652),\n",
       " (4, 0.15475379),\n",
       " (5, 0.7022855),\n",
       " (6, 0.028577065)]"
      ]
     },
     "execution_count": 7,
     "metadata": {},
     "output_type": "execute_result"
    }
   ],
   "source": [
    "## Resultados\n",
    "d = dictionary.doc2bow([\"bonito\", \"calidad\", \"foto\", \"regalo\"])\n",
    "topics = model.get_document_topics(d)\n",
    "topics"
   ]
  },
  {
   "cell_type": "markdown",
   "metadata": {},
   "source": [
    "### 🔁 Punto 3\n",
    "a. Visualización de LDA"
   ]
  },
  {
   "cell_type": "code",
   "execution_count": 8,
   "metadata": {
    "scrolled": true
   },
   "outputs": [
    {
     "data": {
      "text/html": [
       "\n",
       "<link rel=\"stylesheet\" type=\"text/css\" href=\"https://cdn.rawgit.com/bmabey/pyLDAvis/files/ldavis.v1.0.0.css\">\n",
       "\n",
       "\n",
       "<div id=\"ldavis_el933622347250113447171860242\"></div>\n",
       "<script type=\"text/javascript\">\n",
       "\n",
       "var ldavis_el933622347250113447171860242_data = {\"mdsDat\": {\"x\": [-0.2770797894498212, -0.031397702675558685, 0.10445597280598992, 0.08413276830566663, 0.028075043191038183, -0.01050618864626332, 0.10231989646894854], \"y\": [-0.015205688860949538, 0.1885380990049317, -0.04132189643674029, 0.015014408662391612, 0.07791247481901352, -0.22678943706442403, 0.0018520398757769176], \"topics\": [1, 2, 3, 4, 5, 6, 7], \"cluster\": [1, 1, 1, 1, 1, 1, 1], \"Freq\": [18.9364013671875, 17.189695358276367, 15.582876205444336, 13.440437316894531, 12.793376922607422, 12.444548606872559, 9.612662315368652]}, \"tinfo\": {\"Term\": [\"calidad\", \"buena\", \"juego\", \"bonito\", \"llegado\", \"precio\", \"mas\", \"perfecto\", \"d\\u00eda\", \"buen\", \"bonitos\", \"pulsera\", \"producto\", \"pena\", \"plata\", \"llego\", \"ps\", \"pedido\", \"tama\\u00f1o\", \"bien\", \"mala\", \"puede\", \"tiempo\", \"bastante\", \"foto\", \"dos\", \"d\\u00edas\", \"caja\", \"material\", \"nintendo\", \"bonitos\", \"pulsera\", \"plata\", \"bonito\", \"mujer\", \"pandora\", \"encantada\", \"anillo\", \"tama\\u00f1o\", \"color\", \"elegantes\", \"puestos\", \"peque\\u00f1a\", \"medida\", \"rosa\", \"dorado\", \"regalar\", \"peque\\u00f1os\", \"grandes\", \"bonita\", \"quedan\", \"hija\", \"preciosos\", \"cajita\", \"peso\", \"cuesta\", \"pesan\", \"cadena\", \"dedo\", \"cierra\", \"queda\", \"grande\", \"tal\", \"foto\", \"regalo\", \"bien\", \"colgante\", \"demasiado\", \"cierre\", \"peque\\u00f1o\", \"pendientes\", \"pega\", \"perfecto\", \"parece\", \"lleg\\u00f3\", \"precio\", \"aunque\", \"si\", \"buena\", \"ps\", \"mala\", \"relaci\\u00f3n\", \"presentaci\\u00f3n\", \"acabados\", \"mu\\u00f1eca\", \"conjunto\", \"bajo\", \"ir\", \"cualquier\", \"elegante\", \"toda\", \"ajusta\", \"calidad\", \"much\\u00edsimo\", \"semanas\", \"respecto\", \"totalmente\", \"buen\", \"usb\", \"junto\", \"certificado\", \"buenos\", \"fea\", \"aun\", \"bastante\", \"pro\", \"auriculares\", \"hacen\", \"precio\", \"puede\", \"compra\", \"pedir\", \"acabado\", \"recomendable\", \"nota\", \"cumple\", \"excelente\", \"bien\", \"dise\\u00f1o\", \"sonido\", \"aunque\", \"si\", \"botones\", \"trae\", \"producto\", \"mejor\", \"ahora\", \"regalo\", \"compr\\u00e9\", \"pendientes\", \"mando\", \"bueno\", \"perfectamente\", \"pena\", \"barato\", \"italiano\", \"gr\\u00e1ficos\", \"jugando\", \"p\\u00e9simo\", \"pens\\u00e9\", \"compras\", \"ingles\", \"videojuegos\", \"opinar\", \"espa\\u00f1ol\", \"enga\\u00f1o\", \"castellano\", \"versi\\u00f3n\", \"mejores\", \"funcionar\", \"play\", \"valen\", \"completo\", \"cuenta\", \"edici\\u00f3n\", \"prime\", \"lamentable\", \"espa\\u00f1ola\", \"ingl\\u00e9s\", \"correctamente\", \"merece\", \"menos\", \"costado\", \"mes\", \"juego\", \"cuanto\", \"vale\", \"devoluci\\u00f3n\", \"nuevo\", \"amazon\", \"siempre\", \"enseguida\", \"pues\", \"caja\", \"mal\", \"entrega\", \"roto\", \"mejor\", \"as\\u00ed\", \"viene\", \"lleg\\u00f3\", \"si\", \"precio\", \"ning\\u00fan\", \"caso\", \"perfecto\", \"hacer\", \"mando\", \"mismo\", \"gustado\", \"mas\", \"funciona\", \"nintendo\", \"fin\", \"esperando\", \"pensaba\", \"familia\", \"luces\", \"cargador\", \"encajan\", \"switch\", \"semana\", \"primera\", \"apenas\", \"pongo\", \"ruido\", \"sigue\", \"marca\", \"pueden\", \"disco\", \"adapta\", \"mandos\", \"pasado\", \"alguna\", \"va\", \"expectativas\", \"m\\u00f3viles\", \"dinero\", \"funda\", \"alguien\", \"lado\", \"c\\u00f3mo\", \"todas\", \"uso\", \"despu\\u00e9s\", \"ver\", \"tiempo\", \"hace\", \"consola\", \"si\", \"solo\", \"jugar\", \"llegar\", \"original\", \"bien\", \"esperaba\", \"juego\", \"vez\", \"caja\", \"gusta\", \"sido\", \"art\\u00edculo\", \"mando\", \"q\", \"esperado\", \"asi\", \"dura\", \"veces\", \"pc\", \"llego\", \"bonitas\", \"duda\", \"ayuda\", \"veo\", \"ningun\", \"igualmente\", \"exactamente\", \"mas\", \"media\", \"puedo\", \"verdad\", \"horas\", \"one\", \"xbox\", \"bot\\u00f3n\", \"tan\", \"principio\", \"corresponde\", \"utilizar\", \"nunca\", \"ajustar\", \"gente\", \"anuncio\", \"caro\", \"par\", \"decir\", \"mando\", \"funciona\", \"puede\", \"pedir\", \"parece\", \"original\", \"dos\", \"bueno\", \"si\", \"bien\", \"producto\", \"perfectamente\", \"jugar\", \"foto\", \"tiempo\", \"problema\", \"precio\", \"mal\", \"juego\", \"ped\\u00ed\", \"entregado\", \"pedido\", \"condiciones\", \"dicen\", \"previsto\", \"llegado\", \"seg\\u00fan\", \"opini\\u00f3n\", \"puesta\", \"negra\", \"todav\\u00eda\", \"brillo\", \"d\\u00eda\", \"hoy\", \"peor\", \"cosas\", \"segundo\", \"misma\", \"repartidor\", \"cuidado\", \"empresa\", \"llega\", \"recibido\", \"usado\", \"rota\", \"vendedor\", \"venido\", \"devuelto\", \"parecido\", \"collar\", \"env\\u00edo\", \"entrega\", \"producto\", \"ve\", \"gracias\", \"sido\", \"ser\", \"lleg\\u00f3\", \"caja\", \"tener\", \"solo\", \"peque\\u00f1o\", \"llegar\", \"parece\", \"calidad\", \"gusto\", \"encanta\", \"llevo\", \"ni\\u00f1os\", \"rato\", \"hijo\", \"mayor\", \"d\\u00edas\", \"voy\", \"detalle\", \"quedado\", \"doy\", \"ponen\", \"material\", \"mont\\u00f3n\", \"rompio\", \"originales\", \"perfecto\", \"entretenido\", \"mano\", \"pocas\", \"llevas\", \"a\\u00f1os\", \"juegos\", \"c\\u00f3modos\", \"encontr\\u00e9\", \"hola\", \"cd\", \"funci\\u00f3n\", \"unas\", \"devolver\", \"dos\", \"tres\", \"comprado\", \"r\\u00e1pido\", \"vienen\", \"perfectamente\", \"encantado\", \"gracias\", \"juego\", \"buen\", \"producto\", \"funciona\", \"parte\", \"solo\", \"jugar\", \"mas\", \"bueno\", \"compra\", \"bien\", \"fotos\", \"poner\", \"calidad\"], \"Freq\": [143.0, 65.0, 118.0, 62.0, 50.0, 115.0, 65.0, 59.0, 48.0, 60.0, 38.0, 36.0, 105.0, 31.0, 33.0, 34.0, 28.0, 24.0, 33.0, 184.0, 24.0, 50.0, 42.0, 52.0, 51.0, 39.0, 21.0, 47.0, 20.0, 17.0, 37.64131164550781, 35.8108024597168, 33.05863571166992, 59.372982025146484, 11.108047485351562, 8.364595413208008, 8.364052772521973, 8.363448143005371, 30.65382194519043, 18.90636444091797, 6.5336689949035645, 6.532996654510498, 14.677544593811035, 6.519113540649414, 5.619973182678223, 5.619136810302734, 12.78076457977295, 18.181297302246094, 19.7894344329834, 21.138900756835938, 17.527585983276367, 6.4733805656433105, 5.620012283325195, 6.328827857971191, 5.5926313400268555, 4.196772575378418, 5.570369243621826, 24.231069564819336, 5.51717472076416, 5.507615566253662, 25.248119354248047, 20.979476928710938, 20.548002243041992, 32.44415283203125, 36.55787658691406, 71.5247573852539, 14.7427339553833, 15.1027193069458, 12.440194129943848, 14.078739166259766, 12.33254337310791, 8.125143051147461, 15.038592338562012, 13.182082176208496, 12.235182762145996, 13.964983940124512, 11.38576889038086, 13.196222305297852, 64.24728393554688, 28.00491714477539, 23.361328125, 7.565655708312988, 7.565316200256348, 6.635600566864014, 4.778193950653076, 4.778165817260742, 4.7781572341918945, 4.729557514190674, 7.498661041259766, 7.410498142242432, 8.096482276916504, 6.573929309844971, 112.0827865600586, 4.777650833129883, 4.773715972900391, 4.769565582275391, 7.9769182205200195, 42.7328987121582, 5.249752521514893, 3.8483731746673584, 3.849315643310547, 6.411359786987305, 3.846207857131958, 8.101799964904785, 34.95704650878906, 5.4700608253479, 5.392025470733643, 4.7785210609436035, 70.56426239013672, 26.342056274414062, 17.91415023803711, 11.303226470947266, 6.372094631195068, 9.963021278381348, 8.025911331176758, 11.35274887084961, 7.5180487632751465, 39.90659713745117, 9.511133193969727, 7.758111476898193, 13.961215019226074, 22.886783599853516, 8.515913009643555, 8.386899948120117, 18.9547119140625, 11.04919719696045, 9.353864669799805, 12.273796081542969, 9.338797569274902, 9.090279579162598, 8.8099946975708, 8.114253997802734, 8.043075561523438, 29.794673919677734, 10.515279769897461, 7.5923686027526855, 6.740740776062012, 6.740711212158203, 5.797089099884033, 5.796894073486328, 5.796154975891113, 4.853330612182617, 4.853028774261475, 4.8522844314575195, 15.216423034667969, 5.47612190246582, 6.74049711227417, 10.960819244384766, 6.578514099121094, 5.798144817352295, 5.75636625289917, 4.847704887390137, 4.853335380554199, 5.456666946411133, 6.718839645385742, 4.684545516967773, 3.910012722015381, 3.9099340438842773, 3.9088144302368164, 5.739694118499756, 4.4372172355651855, 16.551185607910156, 3.6839892864227295, 9.1798095703125, 70.57433319091797, 7.302591323852539, 12.138040542602539, 6.157349109649658, 9.502803802490234, 17.066688537597656, 9.732030868530273, 6.558383464813232, 8.40052604675293, 17.837902069091797, 14.978508949279785, 11.181572914123535, 9.951618194580078, 13.800599098205566, 14.745532035827637, 14.219722747802734, 13.614720344543457, 21.053560256958008, 20.78672981262207, 8.58106517791748, 8.216711044311523, 12.72996997833252, 8.473380088806152, 10.612733840942383, 8.11941146850586, 8.97434139251709, 9.873312950134277, 8.127037048339844, 16.225833892822266, 10.538284301757812, 8.650952339172363, 4.8672261238098145, 4.86679744720459, 4.866487979888916, 9.519810676574707, 5.8144354820251465, 15.738659858703613, 7.707297325134277, 4.867236137390137, 4.857647895812988, 7.532408714294434, 4.6277618408203125, 6.567561149597168, 5.581240177154541, 9.964337348937988, 6.737951278686523, 3.506121873855591, 9.266387939453125, 4.594066619873047, 5.698930740356445, 13.52856159210205, 7.282464981079102, 3.9011881351470947, 7.721457481384277, 8.18028450012207, 3.8342807292938232, 4.8685455322265625, 4.866328239440918, 10.060959815979004, 12.81076717376709, 14.87990665435791, 8.456694602966309, 20.772897720336914, 10.719822883605957, 10.591339111328125, 29.003419876098633, 15.863229751586914, 12.798209190368652, 8.105439186096191, 11.827491760253906, 29.223106384277344, 11.524008750915527, 18.96133041381836, 9.888278007507324, 12.514582633972168, 9.112271308898926, 8.668524742126465, 8.06415843963623, 8.864299774169922, 15.35547924041748, 7.745054721832275, 6.794550895690918, 5.842577934265137, 10.541059494018555, 8.648408889770508, 27.480716705322266, 6.793108940124512, 6.663035869598389, 5.659730434417725, 6.2525811195373535, 4.755812644958496, 3.9406487941741943, 3.8904881477355957, 44.3538703918457, 3.772162675857544, 14.205737113952637, 14.789779663085938, 5.760113716125488, 3.941032886505127, 7.325500011444092, 4.4768195152282715, 13.906339645385742, 5.428589820861816, 4.740023612976074, 4.725677490234375, 11.332924842834473, 3.5278515815734863, 2.9891395568847656, 2.9890432357788086, 5.420971870422363, 4.397299766540527, 9.298205375671387, 20.977310180664062, 14.503152847290039, 17.332441329956055, 8.675690650939941, 14.62746524810791, 11.179669380187988, 12.188567161560059, 9.208381652832031, 20.919239044189453, 26.338706970214844, 15.640070915222168, 9.890478134155273, 9.389813423156738, 10.50468635559082, 9.59122085571289, 8.261068344116211, 9.8377685546875, 8.213072776794434, 8.265440940856934, 13.267410278320312, 13.738073348999023, 22.171627044677734, 6.700686454772949, 6.699432373046875, 6.698810577392578, 44.61213684082031, 5.762087821960449, 4.824193954467773, 4.823016166687012, 4.822442054748535, 10.374238014221191, 6.214463233947754, 39.411956787109375, 8.292634010314941, 4.774631977081299, 7.448859691619873, 4.644420146942139, 6.494737148284912, 3.887125015258789, 7.678823947906494, 3.7460777759552, 10.994653701782227, 9.812850952148438, 3.6830267906188965, 7.32911491394043, 12.727940559387207, 3.650822162628174, 6.409642219543457, 4.61317253112793, 9.517288208007812, 10.915194511413574, 11.667899131774902, 38.497581481933594, 11.036385536193848, 9.843252182006836, 11.195074081420898, 12.671638488769531, 13.538612365722656, 12.857062339782715, 8.382705688476562, 10.858539581298828, 9.268614768981934, 7.244081974029541, 8.57294750213623, 9.556731224060059, 7.445287227630615, 7.78847599029541, 7.788252353668213, 4.920133113861084, 4.919905185699463, 12.243021011352539, 4.920619964599609, 14.914909362792969, 5.683549880981445, 3.9648401737213135, 4.4875712394714355, 3.9200263023376465, 3.930393695831299, 12.139246940612793, 3.0064597129821777, 3.0063490867614746, 4.486255168914795, 31.063350677490234, 3.963400363922119, 7.363811492919922, 2.884340763092041, 2.8554959297180176, 6.621416091918945, 11.699422836303711, 3.6089608669281006, 2.612989902496338, 3.0074849128723145, 3.00508451461792, 2.9132936000823975, 3.705075979232788, 4.848390102386475, 15.717658996582031, 5.366472244262695, 5.868292331695557, 7.358864784240723, 4.862762928009033, 10.723529815673828, 5.267238140106201, 6.995660305023193, 20.161561965942383, 13.154783248901367, 17.551525115966797, 7.991029262542725, 7.516713619232178, 8.637530326843262, 7.498222351074219, 9.29085636138916, 6.257307529449463, 6.769543170928955, 9.528258323669434, 5.339757919311523, 5.3788743019104, 5.973319053649902], \"Total\": [143.0, 65.0, 118.0, 62.0, 50.0, 115.0, 65.0, 59.0, 48.0, 60.0, 38.0, 36.0, 105.0, 31.0, 33.0, 34.0, 28.0, 24.0, 33.0, 184.0, 24.0, 50.0, 42.0, 52.0, 51.0, 39.0, 21.0, 47.0, 20.0, 17.0, 38.451473236083984, 36.62154769897461, 33.87700271606445, 62.29222869873047, 11.918747901916504, 9.174140930175781, 9.17405891418457, 9.174084663391113, 33.91439437866211, 21.102218627929688, 7.344207763671875, 7.344121932983398, 16.524826049804688, 7.344724655151367, 6.429390907287598, 6.429344654083252, 14.697111129760742, 21.162858963012695, 23.916501998901367, 25.736255645751953, 22.108720779418945, 8.292657852172852, 7.372898578643799, 8.303574562072754, 7.358654022216797, 5.534316539764404, 7.377313137054443, 32.244693756103516, 7.369859218597412, 7.370190620422363, 35.05165481567383, 29.620954513549805, 29.511877059936523, 51.871971130371094, 60.980472564697266, 184.3797149658203, 25.020536422729492, 28.847179412841797, 24.09520721435547, 29.739337921142578, 28.723278045654297, 12.031720161437988, 59.403358459472656, 48.674095153808594, 42.95209884643555, 115.5604019165039, 42.89542770385742, 112.69676208496094, 65.0552978515625, 28.81591796875, 24.169937133789062, 8.37346363067627, 8.37345027923584, 7.444192409515381, 5.585874080657959, 5.58587121963501, 5.585879325866699, 5.586002826690674, 9.317852020263672, 9.334426879882812, 10.256355285644531, 8.38876724243164, 143.27313232421875, 6.536906719207764, 6.536184310913086, 6.542301654815674, 11.196311950683594, 60.86200714111328, 7.484954833984375, 5.57111120223999, 5.599827766418457, 9.341337203979492, 5.606962203979492, 12.159164428710938, 52.925113677978516, 8.423116683959961, 8.407421112060547, 7.469394683837891, 115.5604019165039, 50.72470474243164, 33.76597213745117, 20.651142120361328, 10.29348087310791, 18.60149574279785, 14.069737434387207, 24.447826385498047, 13.105637550354004, 184.3797149658203, 19.382305145263672, 14.007254600524902, 42.89542770385742, 112.69676208496094, 16.922382354736328, 16.825855255126953, 105.55459594726562, 35.548091888427734, 25.33897590637207, 60.980472564697266, 26.950119018554688, 28.723278045654297, 52.94567108154297, 25.464391708374023, 37.84991455078125, 31.132963180541992, 11.321512222290039, 8.488789558410645, 7.54641056060791, 7.546385765075684, 6.602672576904297, 6.602594375610352, 6.6024909019470215, 5.658875942230225, 5.658804416656494, 5.658677577972412, 17.954341888427734, 6.603344917297363, 8.49275016784668, 14.141356468200684, 8.493176460266113, 7.517326354980469, 7.559738636016846, 6.587545871734619, 6.596868515014648, 7.559269905090332, 9.4395112991333, 6.605550289154053, 5.644032001495361, 5.666213512420654, 5.671549320220947, 8.45344352722168, 6.581338405609131, 24.589113235473633, 5.622454643249512, 14.196563720703125, 118.36051940917969, 11.269067764282227, 19.811986923217773, 9.467778205871582, 15.960684776306152, 34.931156158447266, 16.913564682006836, 10.330978393554688, 15.02132511138916, 47.092803955078125, 36.619781494140625, 23.521595001220703, 19.782567977905273, 35.548091888427734, 40.4932975769043, 38.373165130615234, 42.95209884643555, 112.69676208496094, 115.5604019165039, 16.9993896484375, 16.03621482849121, 59.403358459472656, 19.828144073486328, 52.94567108154297, 17.770648956298828, 32.63894271850586, 65.58003234863281, 35.147098541259766, 17.0312442779541, 11.351699829101562, 9.458405494689941, 5.672575950622559, 5.672501564025879, 5.672632217407227, 11.317485809326172, 7.557120323181152, 20.812524795532227, 10.370185852050781, 6.616127967834473, 6.623195171356201, 10.350323677062988, 6.597154140472412, 9.466413497924805, 8.440999984741211, 15.099039077758789, 10.410082817077637, 5.679204940795898, 15.156566619873047, 7.5299272537231445, 9.417654991149902, 22.76373291015625, 12.28097152709961, 6.6113200187683105, 13.240394592285156, 14.073637008666992, 6.628594398498535, 8.445837020874023, 8.449962615966797, 17.98184585571289, 23.396909713745117, 27.447526931762695, 15.123234748840332, 42.24690628051758, 20.689542770385742, 20.71954917907715, 112.69676208496094, 46.30564498901367, 34.120933532714844, 16.02099609375, 32.2110710144043, 184.3797149658203, 34.63729476928711, 118.36051940917969, 26.20090103149414, 47.092803955078125, 22.565107345581055, 27.241371154785156, 17.767534255981445, 52.94567108154297, 16.16022491455078, 8.54995059967041, 7.598873138427734, 6.647439479827881, 12.31622314453125, 10.429204940795898, 34.184814453125, 8.527351379394531, 8.52462387084961, 7.57253360748291, 8.492746353149414, 6.640436172485352, 5.691333770751953, 5.701858043670654, 65.58003234863281, 5.670052528381348, 21.8137149810791, 23.70108985900879, 9.461211204528809, 6.603190898895264, 12.274161338806152, 7.591401100158691, 23.594533920288086, 9.457347869873047, 8.479987144470215, 8.508204460144043, 20.830799102783203, 6.593530178070068, 5.686596393585205, 5.696622848510742, 10.43914794921875, 8.523462295532227, 19.846181869506836, 52.94567108154297, 35.147098541259766, 50.72470474243164, 20.651142120361328, 48.674095153808594, 32.2110710144043, 39.80553436279297, 25.464391708374023, 112.69676208496094, 184.3797149658203, 105.55459594726562, 37.84991455078125, 34.120933532714844, 51.871971130371094, 42.24690628051758, 24.629194259643555, 115.5604019165039, 36.619781494140625, 118.36051940917969, 14.074247360229492, 15.016621589660645, 24.402523040771484, 7.507078170776367, 7.5068678855896, 7.506954669952393, 50.736080169677734, 6.56881046295166, 5.630699634552002, 5.630400657653809, 5.630467414855957, 12.211980819702148, 7.510960578918457, 48.8349494934082, 10.338491439819336, 6.574625015258789, 10.333660125732422, 6.575501441955566, 9.402811050415039, 5.638930797576904, 11.26889705657959, 5.6518754959106445, 16.838825225830078, 15.031511306762695, 5.6464009284973145, 11.303217887878418, 19.67739486694336, 5.646456241607666, 10.339889526367188, 7.5086669921875, 15.98709774017334, 21.649917602539062, 23.521595001220703, 105.55459594726562, 22.407062530517578, 21.76371192932129, 27.241371154785156, 36.69965744018555, 42.95209884643555, 47.092803955078125, 18.824979782104492, 46.30564498901367, 29.739337921142578, 16.02099609375, 48.674095153808594, 143.27313232421875, 20.62495994567871, 8.59377384185791, 8.59361457824707, 5.7237229347229, 5.72370719909668, 16.205459594726562, 6.661744117736816, 21.878942489624023, 8.575793266296387, 6.6251726150512695, 7.561465740203857, 6.62387752532959, 6.656252861022949, 20.79798126220703, 5.7030744552612305, 5.712493896484375, 8.558527946472168, 59.403358459472656, 7.592177391052246, 14.181358337402344, 5.690079689025879, 5.647552967071533, 13.268457412719727, 23.722620010375977, 7.495973587036133, 5.6539764404296875, 6.637570381164551, 6.653907775878906, 6.594966888427734, 8.48471450805664, 11.405529022216797, 39.80553436279297, 13.247724533081055, 15.206535339355469, 20.788455963134766, 12.248039245605469, 37.84991455078125, 13.97321891784668, 21.76371192932129, 118.36051940917969, 60.86200714111328, 105.55459594726562, 35.147098541259766, 31.02432632446289, 46.30564498901367, 34.120933532714844, 65.58003234863281, 25.464391708374023, 33.76597213745117, 184.3797149658203, 17.70655059814453, 19.67372703552246, 143.27313232421875], \"Category\": [\"Default\", \"Default\", \"Default\", \"Default\", \"Default\", \"Default\", \"Default\", \"Default\", \"Default\", \"Default\", \"Default\", \"Default\", \"Default\", \"Default\", \"Default\", \"Default\", \"Default\", \"Default\", \"Default\", \"Default\", \"Default\", \"Default\", \"Default\", \"Default\", \"Default\", \"Default\", \"Default\", \"Default\", \"Default\", \"Default\", \"Topic1\", \"Topic1\", \"Topic1\", \"Topic1\", \"Topic1\", \"Topic1\", \"Topic1\", \"Topic1\", \"Topic1\", \"Topic1\", \"Topic1\", \"Topic1\", \"Topic1\", \"Topic1\", \"Topic1\", \"Topic1\", \"Topic1\", \"Topic1\", \"Topic1\", \"Topic1\", \"Topic1\", \"Topic1\", \"Topic1\", \"Topic1\", \"Topic1\", \"Topic1\", \"Topic1\", \"Topic1\", \"Topic1\", \"Topic1\", \"Topic1\", \"Topic1\", \"Topic1\", \"Topic1\", \"Topic1\", \"Topic1\", \"Topic1\", \"Topic1\", \"Topic1\", \"Topic1\", \"Topic1\", \"Topic1\", \"Topic1\", \"Topic1\", \"Topic1\", \"Topic1\", \"Topic1\", \"Topic1\", \"Topic2\", \"Topic2\", \"Topic2\", \"Topic2\", \"Topic2\", \"Topic2\", \"Topic2\", \"Topic2\", \"Topic2\", \"Topic2\", \"Topic2\", \"Topic2\", \"Topic2\", \"Topic2\", \"Topic2\", \"Topic2\", \"Topic2\", \"Topic2\", \"Topic2\", \"Topic2\", \"Topic2\", \"Topic2\", \"Topic2\", \"Topic2\", \"Topic2\", \"Topic2\", \"Topic2\", \"Topic2\", \"Topic2\", \"Topic2\", \"Topic2\", \"Topic2\", \"Topic2\", \"Topic2\", \"Topic2\", \"Topic2\", \"Topic2\", \"Topic2\", \"Topic2\", \"Topic2\", \"Topic2\", \"Topic2\", \"Topic2\", \"Topic2\", \"Topic2\", \"Topic2\", \"Topic2\", \"Topic2\", \"Topic2\", \"Topic2\", \"Topic2\", \"Topic2\", \"Topic2\", \"Topic2\", \"Topic2\", \"Topic3\", \"Topic3\", \"Topic3\", \"Topic3\", \"Topic3\", \"Topic3\", \"Topic3\", \"Topic3\", \"Topic3\", \"Topic3\", \"Topic3\", \"Topic3\", \"Topic3\", \"Topic3\", \"Topic3\", \"Topic3\", \"Topic3\", \"Topic3\", \"Topic3\", \"Topic3\", \"Topic3\", \"Topic3\", \"Topic3\", \"Topic3\", \"Topic3\", \"Topic3\", \"Topic3\", \"Topic3\", \"Topic3\", \"Topic3\", \"Topic3\", \"Topic3\", \"Topic3\", \"Topic3\", \"Topic3\", \"Topic3\", \"Topic3\", \"Topic3\", \"Topic3\", \"Topic3\", \"Topic3\", \"Topic3\", \"Topic3\", \"Topic3\", \"Topic3\", \"Topic3\", \"Topic3\", \"Topic3\", \"Topic3\", \"Topic3\", \"Topic3\", \"Topic3\", \"Topic3\", \"Topic3\", \"Topic3\", \"Topic3\", \"Topic3\", \"Topic3\", \"Topic3\", \"Topic4\", \"Topic4\", \"Topic4\", \"Topic4\", \"Topic4\", \"Topic4\", \"Topic4\", \"Topic4\", \"Topic4\", \"Topic4\", \"Topic4\", \"Topic4\", \"Topic4\", \"Topic4\", \"Topic4\", \"Topic4\", \"Topic4\", \"Topic4\", \"Topic4\", \"Topic4\", \"Topic4\", \"Topic4\", \"Topic4\", \"Topic4\", \"Topic4\", \"Topic4\", \"Topic4\", \"Topic4\", \"Topic4\", \"Topic4\", \"Topic4\", \"Topic4\", \"Topic4\", \"Topic4\", \"Topic4\", \"Topic4\", \"Topic4\", \"Topic4\", \"Topic4\", \"Topic4\", \"Topic4\", \"Topic4\", \"Topic4\", \"Topic4\", \"Topic4\", \"Topic4\", \"Topic4\", \"Topic4\", \"Topic4\", \"Topic4\", \"Topic4\", \"Topic5\", \"Topic5\", \"Topic5\", \"Topic5\", \"Topic5\", \"Topic5\", \"Topic5\", \"Topic5\", \"Topic5\", \"Topic5\", \"Topic5\", \"Topic5\", \"Topic5\", \"Topic5\", \"Topic5\", \"Topic5\", \"Topic5\", \"Topic5\", \"Topic5\", \"Topic5\", \"Topic5\", \"Topic5\", \"Topic5\", \"Topic5\", \"Topic5\", \"Topic5\", \"Topic5\", \"Topic5\", \"Topic5\", \"Topic5\", \"Topic5\", \"Topic5\", \"Topic5\", \"Topic5\", \"Topic5\", \"Topic5\", \"Topic5\", \"Topic5\", \"Topic5\", \"Topic5\", \"Topic5\", \"Topic5\", \"Topic5\", \"Topic5\", \"Topic5\", \"Topic5\", \"Topic5\", \"Topic5\", \"Topic5\", \"Topic5\", \"Topic5\", \"Topic5\", \"Topic6\", \"Topic6\", \"Topic6\", \"Topic6\", \"Topic6\", \"Topic6\", \"Topic6\", \"Topic6\", \"Topic6\", \"Topic6\", \"Topic6\", \"Topic6\", \"Topic6\", \"Topic6\", \"Topic6\", \"Topic6\", \"Topic6\", \"Topic6\", \"Topic6\", \"Topic6\", \"Topic6\", \"Topic6\", \"Topic6\", \"Topic6\", \"Topic6\", \"Topic6\", \"Topic6\", \"Topic6\", \"Topic6\", \"Topic6\", \"Topic6\", \"Topic6\", \"Topic6\", \"Topic6\", \"Topic6\", \"Topic6\", \"Topic6\", \"Topic6\", \"Topic6\", \"Topic6\", \"Topic6\", \"Topic6\", \"Topic6\", \"Topic6\", \"Topic6\", \"Topic6\", \"Topic6\", \"Topic7\", \"Topic7\", \"Topic7\", \"Topic7\", \"Topic7\", \"Topic7\", \"Topic7\", \"Topic7\", \"Topic7\", \"Topic7\", \"Topic7\", \"Topic7\", \"Topic7\", \"Topic7\", \"Topic7\", \"Topic7\", \"Topic7\", \"Topic7\", \"Topic7\", \"Topic7\", \"Topic7\", \"Topic7\", \"Topic7\", \"Topic7\", \"Topic7\", \"Topic7\", \"Topic7\", \"Topic7\", \"Topic7\", \"Topic7\", \"Topic7\", \"Topic7\", \"Topic7\", \"Topic7\", \"Topic7\", \"Topic7\", \"Topic7\", \"Topic7\", \"Topic7\", \"Topic7\", \"Topic7\", \"Topic7\", \"Topic7\", \"Topic7\", \"Topic7\", \"Topic7\", \"Topic7\", \"Topic7\", \"Topic7\", \"Topic7\", \"Topic7\", \"Topic7\"], \"logprob\": [30.0, 29.0, 28.0, 27.0, 26.0, 25.0, 24.0, 23.0, 22.0, 21.0, 20.0, 19.0, 18.0, 17.0, 16.0, 15.0, 14.0, 13.0, 12.0, 11.0, 10.0, 9.0, 8.0, 7.0, 6.0, 5.0, 4.0, 3.0, 2.0, 1.0, -3.6396000385284424, -3.689500093460083, -3.769399881362915, -3.1839001178741455, -4.860099792480469, -5.143700122833252, -5.143799781799316, -5.143899917602539, -3.8450000286102295, -4.328199863433838, -5.3907999992370605, -5.390900135040283, -4.581399917602539, -5.39300012588501, -5.541399955749512, -5.541600227355957, -4.719799995422363, -4.367300033569336, -4.282599925994873, -4.216599941253662, -4.4039998054504395, -5.400000095367432, -5.541399955749512, -5.422599792480469, -5.546299934387207, -5.833399772644043, -5.550300121307373, -4.080100059509277, -5.559899806976318, -5.561600208282471, -4.039000034332275, -4.2241997718811035, -4.244999885559082, -3.7881999015808105, -3.668800115585327, -2.9976999759674072, -4.577000141143799, -4.5528998374938965, -4.746799945831299, -4.6230998039245605, -4.755499839782715, -5.172800064086914, -4.55709981918335, -4.688899993896484, -4.763400077819824, -4.631199836730957, -4.835400104522705, -4.68779993057251, -3.00819993019104, -3.838599920272827, -4.019899845123291, -5.147299766540527, -5.14739990234375, -5.278500080108643, -5.606900215148926, -5.606900215148926, -5.606900215148926, -5.617099761962891, -5.156199932098389, -5.168099880218506, -5.079500198364258, -5.287799835205078, -2.45169997215271, -5.60699987411499, -5.607800006866455, -5.608699798583984, -5.094399929046631, -3.4159998893737793, -5.512800216674805, -5.823299884796143, -5.8231000900268555, -5.312900066375732, -5.82390022277832, -5.07889986038208, -3.61680006980896, -5.471700191497803, -5.486000061035156, -5.606800079345703, -2.914400100708008, -3.8998000621795654, -4.285399913787842, -4.7459001541137695, -5.318999767303467, -4.872099876403809, -5.0883002281188965, -4.741499900817871, -5.153600215911865, -3.4844000339508057, -4.918499946594238, -5.122200012207031, -4.5346999168396, -4.04040002822876, -5.0289998054504395, -5.044300079345703, -4.228899955749512, -4.768599987030029, -4.935200214385986, -4.66349983215332, -4.936800003051758, -4.963799953460693, -4.995100021362305, -5.077300071716309, -5.086100101470947, -3.678499937057495, -4.71999979019165, -5.0457000732421875, -5.164599895477295, -5.164700031280518, -5.315499782562256, -5.315499782562256, -5.3155999183654785, -5.493199825286865, -5.493199825286865, -5.4934000968933105, -4.350399971008301, -5.372399806976318, -5.164700031280518, -4.678500175476074, -5.189000129699707, -5.315299987792969, -5.322500228881836, -5.49429988861084, -5.493199825286865, -5.375999927520752, -5.167900085449219, -5.528500080108643, -5.7093000411987305, -5.7093000411987305, -5.70959997177124, -5.325399875640869, -5.582799911499023, -4.26639986038208, -5.768799781799316, -4.855800151824951, -2.816200017929077, -5.08459997177124, -4.576499938964844, -5.255199909210205, -4.821199893951416, -4.2357001304626465, -4.797399997711182, -5.1921000480651855, -4.944499969482422, -4.191500186920166, -4.366199970245361, -4.658599853515625, -4.775100231170654, -4.4481000900268555, -4.381899833679199, -4.4182000160217285, -4.461699962615967, -4.025700092315674, -4.03849983215332, -4.923299789428711, -4.966599941253662, -4.528900146484375, -4.9359002113342285, -4.7108001708984375, -4.978600025177002, -4.878399848937988, -4.7829999923706055, -4.97760009765625, -4.138299942016602, -4.569900035858154, -4.767199993133545, -5.342400074005127, -5.34250020980835, -5.34250020980835, -4.671500205993652, -5.164599895477295, -4.168799877166748, -4.882699966430664, -5.342400074005127, -5.344399929046631, -4.905700206756592, -5.3927998542785645, -5.042799949645996, -5.20550012588501, -4.625899791717529, -5.017199993133545, -5.670400142669678, -4.698500156402588, -5.400100231170654, -5.184599876403809, -4.320099830627441, -4.9394001960754395, -5.563600063323975, -4.880899906158447, -4.823200225830078, -5.580900192260742, -5.342100143432617, -5.342599868774414, -4.616300106048584, -4.374599933624268, -4.224899768829346, -4.789999961853027, -3.8912999629974365, -4.552800178527832, -4.564899921417236, -3.557499885559082, -4.160900115966797, -4.3755998611450195, -4.832399845123291, -4.454500198364258, -3.549999952316284, -4.480500221252441, -3.9825000762939453, -4.633600234985352, -4.3979997634887695, -4.7153000831604, -4.765200138092041, -4.837500095367432, -4.7428998947143555, -4.144100189208984, -4.828499794006348, -4.959499835968018, -5.110400199890137, -4.520299911499023, -4.718200206756592, -3.5620999336242676, -4.959700107574463, -4.979000091552734, -5.142199993133545, -5.042600154876709, -5.316199779510498, -5.504199981689453, -5.517000198364258, -3.083400011062622, -5.547900199890137, -4.22189998626709, -4.181600093841553, -5.124599933624268, -5.5040998458862305, -4.884200096130371, -5.376699924468994, -4.243199825286865, -5.183899879455566, -5.319499969482422, -5.3225998878479, -4.44789981842041, -5.6149001121521, -5.780600070953369, -5.780600070953369, -5.185299873352051, -5.394599914550781, -4.6458001136779785, -3.8320999145507812, -4.201200008392334, -4.0229997634887695, -4.715000152587891, -4.192699909210205, -4.46150016784668, -4.375100135803223, -4.6554999351501465, -3.83489990234375, -3.6045000553131104, -4.125699996948242, -4.584000110626221, -4.635900020599365, -4.523799896240234, -4.614699840545654, -4.763999938964844, -4.589300155639648, -4.769800186157227, -4.763500213623047, -4.262599945068359, -4.227799892425537, -3.7490999698638916, -4.945700168609619, -4.945899963378906, -4.946000099182129, -3.0499000549316406, -5.09660005569458, -5.2743000984191895, -5.274499893188477, -5.274600028991699, -4.508600234985352, -5.020999908447266, -3.1738998889923096, -4.732600212097168, -5.284599781036377, -4.839900016784668, -5.312300205230713, -4.976900100708008, -5.490300178527832, -4.809500217437744, -5.527200222015381, -4.450500011444092, -4.564199924468994, -5.5441999435424805, -4.856100082397461, -4.304100036621094, -5.552999973297119, -4.990099906921387, -5.318999767303467, -4.594799995422363, -4.457799911499023, -4.39109992980957, -3.1972999572753906, -4.446700096130371, -4.561100006103516, -4.432499885559082, -4.308599948883057, -4.242400169372559, -4.294000148773193, -4.721799850463867, -4.4629998207092285, -4.621300220489502, -4.867700099945068, -4.6992998123168945, -4.590700149536133, -4.8403000831604, -4.537099838256836, -4.537099838256836, -4.996399879455566, -4.996399879455566, -4.084799766540527, -4.996300220489502, -3.887399911880493, -4.852200031280518, -5.212299823760986, -5.088399887084961, -5.223599910736084, -5.2210001945495605, -4.093299865722656, -5.488999843597412, -5.488999843597412, -5.088699817657471, -3.153700113296509, -5.212600231170654, -4.593100070953369, -5.530399799346924, -5.540500164031982, -4.699399948120117, -4.130199909210205, -5.306300163269043, -5.629199981689453, -5.48859977722168, -5.4893999099731445, -5.520400047302246, -5.28000020980835, -5.011099815368652, -3.83489990234375, -4.909599781036377, -4.820199966430664, -4.593800067901611, -5.0081000328063965, -4.217299938201904, -4.928199768066406, -4.644400119781494, -3.585900068283081, -4.012899875640869, -3.724600076675415, -4.51140022277832, -4.5725998878479, -4.433599948883057, -4.575099945068359, -4.3607001304626465, -4.75600004196167, -4.677299976348877, -4.3354997634887695, -4.9145002365112305, -4.907199859619141, -4.8024001121521], \"loglift\": [30.0, 29.0, 28.0, 27.0, 26.0, 25.0, 24.0, 23.0, 22.0, 21.0, 20.0, 19.0, 18.0, 17.0, 16.0, 15.0, 14.0, 13.0, 12.0, 11.0, 10.0, 9.0, 8.0, 7.0, 6.0, 5.0, 4.0, 3.0, 2.0, 1.0, 1.642799973487854, 1.641700029373169, 1.6396000385284424, 1.6160999536514282, 1.5936000347137451, 1.5716999769210815, 1.5715999603271484, 1.5715999603271484, 1.562999963760376, 1.5542000532150269, 1.5470999479293823, 1.5470000505447388, 1.5455000400543213, 1.544800043106079, 1.5295000076293945, 1.5293999910354614, 1.524399995803833, 1.5121999979019165, 1.4746999740600586, 1.4673000574111938, 1.4319000244140625, 1.4163999557495117, 1.3926000595092773, 1.3925000429153442, 1.3897000551223755, 1.3874000310897827, 1.3831000328063965, 1.3783999681472778, 1.3746000528335571, 1.3727999925613403, 1.3359999656677246, 1.319100022315979, 1.3020999431610107, 1.1948000192642212, 1.152400016784668, 0.7171000242233276, 1.13510000705719, 1.0168999433517456, 1.003000020980835, 0.9162999987602234, 0.8185999989509583, 1.2714999914169312, 0.2903999984264374, 0.3578000068664551, 0.4083000123500824, -0.44920000433921814, 0.3377000093460083, -0.48069998621940613, 1.7483999729156494, 1.732300043106079, 1.7267999649047852, 1.6593999862670898, 1.6593999862670898, 1.645900011062622, 1.604699969291687, 1.604699969291687, 1.604699969291687, 1.5944000482559204, 1.5436999797821045, 1.5299999713897705, 1.524399995803833, 1.5170999765396118, 1.5153000354766846, 1.4472999572753906, 1.4465999603271484, 1.4448000192642212, 1.4218000173568726, 1.4071999788284302, 1.4061000347137451, 1.3909000158309937, 1.3860000371932983, 1.3845000267028809, 1.3839000463485718, 1.3549000024795532, 1.3460999727249146, 1.329200029373169, 1.3166999816894531, 1.3142000436782837, 1.2676000595092773, 1.1055999994277954, 1.1269999742507935, 1.1582000255584717, 1.2812999486923218, 1.1365000009536743, 1.1994999647140503, 0.9937999844551086, 1.2051000595092773, 0.2303999960422516, 1.0490000247955322, 1.1699999570846558, 0.6384000182151794, 0.16670000553131104, 1.0742000341415405, 1.0645999908447266, 0.043699998408555984, 0.5922999978065491, 0.7642999887466431, 0.15780000388622284, 0.7009999752044678, 0.6104000210762024, -0.032499998807907104, 0.6172000169754028, 0.21199999749660492, 1.8150999546051025, 1.785099983215332, 1.7474000453948975, 1.7460999488830566, 1.7460999488830566, 1.7288999557495117, 1.7288999557495117, 1.728700041770935, 1.705399990081787, 1.705399990081787, 1.705299973487854, 1.69350004196167, 1.6718000173568726, 1.6279000043869019, 1.604200005531311, 1.6035000085830688, 1.5993000268936157, 1.5865000486373901, 1.552299976348877, 1.5520999431610107, 1.5331000089645386, 1.5190000534057617, 1.5154000520706177, 1.4918999671936035, 1.4880000352859497, 1.486799955368042, 1.4717999696731567, 1.4648000001907349, 1.4631999731063843, 1.4362000226974487, 1.4229999780654907, 1.3418999910354614, 1.4251999855041504, 1.3690999746322632, 1.4286999702453613, 1.340499997138977, 1.142699956893921, 1.3063000440597534, 1.4046000242233276, 1.2777999639511108, 0.8881999850273132, 0.9649999737739563, 1.1153000593185425, 1.1719000339508057, 0.9128000140190125, 0.848800003528595, 0.8662999868392944, 0.710099995136261, 0.18140000104904175, 0.14350000023841858, 1.1754000186920166, 1.1902999877929688, 0.31859999895095825, 1.0088000297546387, 0.251800000667572, 1.075700044631958, 0.5679000020027161, -0.03440000116825104, 0.39469999074935913, 1.9585000276565552, 1.9325000047683716, 1.9177000522613525, 1.8538000583648682, 1.853700041770935, 1.853600025177002, 1.833899974822998, 1.7447999715805054, 1.7274999618530273, 1.7101000547409058, 1.6999000310897827, 1.6969000101089478, 1.6891000270843506, 1.6523000001907349, 1.6412999629974365, 1.5931999683380127, 1.5913000106811523, 1.5719000101089478, 1.5246000289916992, 1.5148999691009521, 1.5127999782562256, 1.5046000480651855, 1.4865000247955322, 1.4843000173568726, 1.4794000387191772, 1.4675999879837036, 1.4643000364303589, 1.4594999551773071, 1.4559999704360962, 1.4551000595092773, 1.426200032234192, 1.4046000242233276, 1.3946000337600708, 1.4256000518798828, 1.2970000505447388, 1.3494000434875488, 1.3358999490737915, 0.6496000289916992, 0.9355999827384949, 1.0262999534606934, 1.3255000114440918, 1.0049999952316284, 0.164900004863739, 0.9064000248908997, 0.17560000717639923, 1.0325000286102295, 0.6816999912261963, 1.100100040435791, 0.8618999719619751, 1.2170000076293945, 0.21969999372959137, 2.005199909210205, 1.9573999643325806, 1.9443999528884888, 1.9271999597549438, 1.9005999565124512, 1.86899995803833, 1.8379000425338745, 1.8288999795913696, 1.8099000453948975, 1.7651000022888184, 1.75, 1.7223999500274658, 1.688599944114685, 1.6740000247955322, 1.6651999950408936, 1.6486999988555908, 1.6273000240325928, 1.5846999883651733, 1.559999942779541, 1.5400999784469604, 1.5400999784469604, 1.5281000137329102, 1.5276000499725342, 1.501099944114685, 1.4745999574661255, 1.4681999683380127, 1.4474999904632568, 1.430799961090088, 1.413100004196167, 1.4112999439239502, 1.4010000228881836, 1.3944000005722046, 1.2980999946594238, 1.1303999423980713, 1.1711000204086304, 0.9824000000953674, 1.1890000104904175, 0.8539999723434448, 0.9980000257492065, 0.8726999759674072, 1.0391000509262085, 0.37220001220703125, 0.11029999703168869, 0.1468999981880188, 0.7142000198364258, 0.765999972820282, 0.4593000113964081, 0.5735999941825867, 0.9639000296592712, -0.4072999954223633, 0.5613999962806702, -0.605400025844574, 2.024899959564209, 1.9948999881744385, 1.9880000352859497, 1.9702999591827393, 1.9701000452041626, 1.9700000286102295, 1.955299973487854, 1.9529000520706177, 1.9292999505996704, 1.9291000366210938, 1.9290000200271606, 1.920799970626831, 1.8944000005722046, 1.8695000410079956, 1.8633999824523926, 1.7640000581741333, 1.756500005722046, 1.736199975013733, 1.7138999700546265, 1.711899995803833, 1.7002999782562256, 1.6726000308990479, 1.6576000452041626, 1.6574000120162964, 1.656599998474121, 1.6506999731063843, 1.6482000350952148, 1.6477999687194824, 1.6057000160217285, 1.5966999530792236, 1.5651999711990356, 1.3990000486373901, 1.3827999830245972, 1.0752999782562256, 1.3756999969482422, 1.2904000282287598, 1.194599986076355, 1.0204999446868896, 0.9293000102043152, 0.7857000231742859, 1.274899959564209, 0.6335999965667725, 0.9180999994277954, 1.2901999950408936, 0.3474000096321106, -0.6236000061035156, 1.065000057220459, 2.2437000274658203, 2.2437000274658203, 2.1907999515533447, 2.1907999515533447, 2.0617001056671143, 2.039099931716919, 1.958899974822998, 1.9306999444961548, 1.8286999464035034, 1.8202999830245972, 1.8174999952316284, 1.8152999877929688, 1.8036999702453613, 1.701799988746643, 1.7001999616622925, 1.6962000131607056, 1.6937999725341797, 1.6921000480651855, 1.6866999864578247, 1.6627000570297241, 1.660099983215332, 1.6469999551773071, 1.635200023651123, 1.6110999584197998, 1.570199966430664, 1.5504000186920166, 1.5471999645233154, 1.5250999927520752, 1.5134999752044678, 1.4866000413894653, 1.4128999710083008, 1.4384000301361084, 1.3898999691009521, 1.3035999536514282, 1.4183000326156616, 1.080899953842163, 1.3665000200271606, 1.2071000337600708, 0.5720999836921692, 0.8102999925613403, 0.5479999780654907, 0.8608999848365784, 0.9243999719619751, 0.6628999710083008, 0.8267999887466431, 0.387800008058548, 0.9386000037193298, 0.7350999712944031, -0.6205999851226807, 1.1433000564575195, 1.045300006866455, -0.8353999853134155]}, \"token.table\": {\"Topic\": [2, 4, 5, 2, 4, 5, 2, 3, 4, 6, 7, 2, 3, 2, 5, 4, 5, 1, 3, 4, 3, 4, 6, 7, 1, 4, 5, 7, 4, 5, 1, 2, 3, 4, 5, 1, 2, 3, 4, 6, 7, 2, 4, 5, 1, 2, 3, 4, 5, 7, 2, 3, 2, 5, 1, 2, 5, 7, 2, 3, 1, 2, 3, 5, 6, 1, 2, 3, 4, 5, 6, 7, 1, 6, 2, 5, 1, 6, 1, 2, 3, 5, 7, 5, 6, 7, 4, 6, 2, 4, 7, 2, 1, 2, 5, 7, 2, 4, 1, 2, 6, 7, 2, 3, 4, 6, 1, 5, 1, 2, 3, 6, 7, 1, 4, 3, 5, 6, 7, 2, 3, 4, 7, 3, 4, 4, 5, 7, 2, 3, 1, 6, 1, 2, 5, 1, 6, 7, 2, 5, 6, 7, 1, 6, 3, 6, 2, 4, 6, 7, 3, 4, 5, 6, 7, 3, 1, 2, 3, 4, 7, 6, 2, 2, 4, 6, 7, 1, 3, 6, 2, 5, 3, 6, 1, 3, 2, 3, 1, 2, 3, 6, 3, 7, 1, 5, 1, 6, 7, 2, 4, 5, 7, 1, 4, 6, 1, 7, 1, 3, 4, 5, 1, 6, 1, 4, 5, 3, 4, 5, 6, 7, 2, 7, 3, 7, 4, 5, 6, 7, 3, 6, 6, 3, 4, 5, 3, 4, 7, 1, 2, 1, 1, 4, 5, 6, 7, 2, 7, 2, 5, 5, 1, 3, 4, 6, 3, 6, 7, 3, 4, 2, 7, 1, 6, 7, 4, 6, 7, 1, 1, 7, 1, 4, 7, 3, 2, 3, 3, 6, 4, 6, 3, 6, 7, 3, 4, 6, 3, 7, 3, 5, 1, 2, 4, 5, 5, 4, 5, 7, 2, 3, 7, 2, 4, 7, 4, 2, 5, 4, 1, 3, 5, 6, 1, 2, 4, 7, 3, 4, 5, 7, 1, 3, 2, 7, 1, 2, 3, 4, 4, 5, 3, 5, 6, 7, 1, 5, 7, 1, 2, 4, 7, 3, 1, 3, 4, 5, 1, 2, 3, 6, 7, 2, 3, 4, 6, 1, 2, 3, 4, 5, 2, 4, 6, 3, 4, 5, 6, 1, 4, 3, 7, 5, 6, 7, 2, 5, 7, 5, 6, 4, 5, 3, 3, 7, 2, 3, 3, 4, 5, 7, 3, 6, 7, 3, 2, 4, 5, 7, 1, 2, 1, 3, 4, 2, 3, 1, 4, 6, 5, 6, 4, 6, 3, 5, 6, 1, 2, 3, 6, 7, 1, 2, 7, 7, 4, 1, 3, 4, 5, 7, 2, 2, 3, 4, 5, 7, 2, 4, 7, 1, 3, 7, 1, 4, 3, 5, 6, 7, 2, 7, 6, 7, 2, 5, 1, 1, 2, 3, 4, 6, 3, 4, 3, 5, 2, 3, 3, 5, 7, 3, 5, 6, 1, 2, 3, 6, 4, 7, 2, 5, 1, 2, 2, 4, 7, 6, 3, 5, 2, 3, 4, 5, 7, 4, 7, 2, 5, 1, 2, 3, 5, 6, 3, 4, 5, 6, 2, 5, 3, 6, 2, 3, 4, 5, 7, 4, 7, 1, 3, 5, 1, 2, 3, 5, 6, 7, 2, 5, 6, 1, 3, 4, 6, 7, 1, 4, 5, 2, 5, 3, 6, 2, 5, 6, 1, 4, 7, 2, 3, 1, 2, 6, 7, 4, 3, 3, 6, 1, 3, 1, 3, 5, 6, 1, 7, 2, 3, 4, 5, 6, 7, 1, 3, 7, 1, 4, 1, 2, 1, 3, 7, 3, 6, 7, 3, 4, 7, 1, 5, 6, 7, 1, 2, 4, 1, 2, 3, 5, 1, 3, 2, 6, 3, 4, 3, 4, 2, 5, 7, 2, 5, 3, 4, 5, 6, 7, 2, 3, 4, 5, 6, 7, 2, 2, 3, 4, 5, 7, 4, 6, 3, 5, 1, 3, 5, 6, 6, 1, 1, 3, 5, 1, 2, 3, 5, 6, 1, 6, 7, 1, 4, 7, 2, 4, 6, 1, 2, 3, 7, 1, 3, 1, 2, 3, 4, 5, 2, 4, 6, 2, 7, 5, 7, 1, 5, 6, 1, 3, 5, 2, 4, 1, 3, 6, 7, 3, 6, 6, 2, 4, 2, 5, 1, 2, 4, 5, 6, 7, 1, 2, 3, 4, 5, 6, 1, 4, 5, 6, 2, 3, 6, 3, 4, 7, 2, 3, 4, 5, 6, 7, 1, 2, 4, 7, 2, 4, 5, 1, 3, 6, 1, 2, 2, 3, 5, 2, 3, 6, 7, 1, 4, 5, 2, 4, 2, 3, 4, 7, 5, 6, 2, 4, 6, 1, 2, 3, 5, 2, 3, 6, 7, 2, 6, 7, 5, 6, 2, 7, 1, 4, 5, 6, 5, 6, 4, 5, 7, 1, 3, 4, 7, 2, 3, 1, 2, 4, 6, 1, 5, 1, 2, 5, 6, 5, 6, 1, 5, 3, 4, 6, 7, 2, 3, 4, 5, 2, 3, 5, 1, 4, 5, 6, 7, 3, 1, 2, 3, 4, 5, 6, 2, 6, 7, 4, 5, 7, 2, 4, 5], \"Freq\": [0.5828931927680969, 0.19429773092269897, 0.09714886546134949, 0.9403303265571594, 0.704323947429657, 0.3521619737148285, 0.35518404841423035, 0.276254266500473, 0.15785957872867584, 0.11839468032121658, 0.03946489468216896, 0.8344491720199585, 0.11920702457427979, 0.30332764983177185, 0.6066552996635437, 0.6034461855888367, 0.30172309279441833, 0.10618354380130768, 0.21236708760261536, 0.6371012926101685, 0.4866715669631958, 0.22902190685272217, 0.2003941684961319, 0.08588321506977081, 0.8720216155052185, 0.17554260790348053, 0.526627779006958, 0.17554260790348053, 0.75492262840271, 0.150984525680542, 0.28141215443611145, 0.16884729266166687, 0.11256486177444458, 0.4502594470977783, 0.9211891889572144, 0.024695444852113724, 0.14817267656326294, 0.37043166160583496, 0.1975635588169098, 0.14817267656326294, 0.0987817794084549, 0.6579399704933167, 0.08224249631166458, 0.16448499262332916, 0.25643759965896606, 0.3263750970363617, 0.18650005757808685, 0.11656253784894943, 0.04662501439452171, 0.04662501439452171, 0.5947126746177673, 0.23788507282733917, 0.13205619156360626, 0.79233717918396, 0.07536671310663223, 0.07536671310663223, 0.30146685242652893, 0.5275669693946838, 0.8951142430305481, 0.971601665019989, 0.1889462172985077, 0.6613117456436157, 0.0377892442047596, 0.0377892442047596, 0.0755784884095192, 0.39049848914146423, 0.21694360673427582, 0.016270769760012627, 0.15728411078453064, 0.14101333916187286, 0.027117950841784477, 0.054235901683568954, 0.8159695267677307, 0.15542276203632355, 0.11726970970630646, 0.8208879232406616, 0.9471486210823059, 0.032106734812259674, 0.9882586002349854, 0.5318400263786316, 0.05909333378076553, 0.1772800087928772, 0.1772800087928772, 0.5269119739532471, 0.13172799348831177, 0.13172799348831177, 0.1331387609243393, 0.7988325953483582, 0.7065163254737854, 0.06572244316339493, 0.21359795331954956, 0.9837784767150879, 0.03927052393555641, 0.3141641914844513, 0.3534347116947174, 0.23562313616275787, 0.6423063278198242, 0.214102104306221, 0.7443085312843323, 0.06202571094036102, 0.09303856641054153, 0.06202571094036102, 0.0637039989233017, 0.3822239935398102, 0.2760506570339203, 0.2760506570339203, 0.7225803732872009, 0.12043005973100662, 0.0767764300107956, 0.78172367811203, 0.03489837795495987, 0.06979675590991974, 0.04187805578112602, 0.08835884928703308, 0.8835884928703308, 0.09579326212406158, 0.47896629571914673, 0.09579326212406158, 0.19158652424812317, 0.12471771240234375, 0.498870849609375, 0.2494354248046875, 0.062358856201171875, 0.8242323994636536, 0.1177474856376648, 0.30057525634765625, 0.15028762817382812, 0.4508628845214844, 0.7143076658248901, 0.17857691645622253, 0.8140901923179626, 0.13568170368671417, 0.4980243444442749, 0.24901217222213745, 0.20751014351844788, 0.5995075106620789, 0.2797701954841614, 0.11990150809288025, 0.12510088086128235, 0.06255044043064117, 0.6255043745040894, 0.12510088086128235, 0.9003792405128479, 0.09477676451206207, 0.7579353451728821, 0.15158706903457642, 0.5330810546875, 0.1184624582529068, 0.1480780690908432, 0.2073093056678772, 0.13152240216732025, 0.06576120108366013, 0.32880598306655884, 0.06576120108366013, 0.39456719160079956, 0.9087479114532471, 0.37105587124824524, 0.3339502811431885, 0.14842234551906586, 0.11131676286458969, 0.037105586379766464, 0.9324533343315125, 0.8951154947280884, 0.2895815968513489, 0.5308995842933655, 0.04826359823346138, 0.09652719646692276, 0.11829499155282974, 0.7097699046134949, 0.11829499155282974, 0.35377413034439087, 0.5896235108375549, 0.1935422718524933, 0.6773979067802429, 0.17785826325416565, 0.7114330530166626, 0.7512460947036743, 0.1073208749294281, 0.08873848617076874, 0.08873848617076874, 0.62116938829422, 0.08873848617076874, 0.6614395380020142, 0.1322879046201706, 0.7227631211280823, 0.18069078028202057, 0.08873982727527618, 0.7099186182022095, 0.17747965455055237, 0.44993776082992554, 0.28632402420043945, 0.04090343043208122, 0.2045171558856964, 0.23668743669986725, 0.5917186141014099, 0.11834371834993362, 0.4002148509025574, 0.5336198210716248, 0.10077504813671112, 0.3527126908302307, 0.05038752406835556, 0.45348772406578064, 0.8141267895698547, 0.13568779826164246, 0.5199815034866333, 0.24265803396701813, 0.20799259841442108, 0.18216577172279358, 0.5464973449707031, 0.07286631315946579, 0.07286631315946579, 0.10929946601390839, 0.3018789291381836, 0.6037578582763672, 0.6337283849716187, 0.3168641924858093, 0.35070711374282837, 0.17535355687141418, 0.08767677843570709, 0.43838387727737427, 0.29013848304748535, 0.5802769660949707, 0.9324794411659241, 0.3021058142185211, 0.6042116284370422, 0.07552645355463028, 0.19212143123149872, 0.6724250316619873, 0.09606071561574936, 0.46434104442596436, 0.5159345269203186, 0.9332211017608643, 0.10048853605985641, 0.07536640763282776, 0.30146563053131104, 0.12561067938804626, 0.40195414423942566, 0.30193793773651123, 0.6038758754730225, 0.11730723083019257, 0.8211506009101868, 0.9026031494140625, 0.020477138459682465, 0.04095427691936493, 0.12286283075809479, 0.7986083626747131, 0.09141209721565247, 0.18282419443130493, 0.6855907440185547, 0.7415637969970703, 0.21187537908554077, 0.7499121427536011, 0.10713030397891998, 0.9531320929527283, 0.707729697227478, 0.1769324243068695, 0.7939532399177551, 0.13232553005218506, 0.9309065341949463, 0.8720240592956543, 0.5725237727165222, 0.357827365398407, 0.17686666548252106, 0.17686666548252106, 0.5306000113487244, 0.7571920156478882, 0.2903887629508972, 0.6775738000869751, 0.46765536069869995, 0.510169506072998, 0.06659287214279175, 0.9323002696037292, 0.26342904567718506, 0.13171452283859253, 0.5268580913543701, 0.27713730931282043, 0.18475821614265442, 0.5080850720405579, 0.8354524970054626, 0.11139366775751114, 0.7059388160705566, 0.17648470401763916, 0.25983554124832153, 0.17322368919849396, 0.3464473783969879, 0.23096491396427155, 0.9356779456138611, 0.9515345692634583, 0.7015256881713867, 0.17538142204284668, 0.6104243397712708, 0.3052121698856354, 0.07630304247140884, 0.16285356879234314, 0.5699874758720398, 0.16285356879234314, 0.8814453482627869, 0.7133987545967102, 0.17834968864917755, 0.9690178632736206, 0.6169034838676453, 0.03855646774172783, 0.2120605707168579, 0.11566940695047379, 0.5082864761352539, 0.05647627264261246, 0.11295254528522491, 0.2823813557624817, 0.22761480510234833, 0.11380740255117416, 0.42677775025367737, 0.22761480510234833, 0.13302601873874664, 0.7981561422348022, 0.4548923373222351, 0.4548923373222351, 0.21316450834274292, 0.0710548385977745, 0.142109677195549, 0.568438708782196, 0.3517042398452759, 0.5275563597679138, 0.04594804346561432, 0.13784413039684296, 0.4594804346561432, 0.3216363191604614, 0.7089575529098511, 0.1350395381450653, 0.1350395381450653, 0.83624267578125, 0.04181213304400444, 0.04181213304400444, 0.04181213304400444, 0.9275932908058167, 0.22158104181289673, 0.044316209852695465, 0.3988458812236786, 0.2658972442150116, 0.27574422955513, 0.21446773409843445, 0.27574422955513, 0.18382948637008667, 0.06127649545669556, 0.33939459919929504, 0.09696988761425018, 0.19393977522850037, 0.33939459919929504, 0.09666719287633896, 0.19333438575267792, 0.14500078558921814, 0.531669557094574, 0.04833359643816948, 0.669398307800293, 0.1338796615600586, 0.1338796615600586, 0.4034669101238251, 0.2521668076515198, 0.1513000875711441, 0.20173345506191254, 0.7235316038131714, 0.12058860063552856, 0.1851228028535843, 0.7404912114143372, 0.1506575345993042, 0.3013150691986084, 0.4519726037979126, 0.211389422416687, 0.634168267250061, 0.1056947112083435, 0.09672591090202332, 0.7738072872161865, 0.17570573091506958, 0.7028229236602783, 0.8835676908493042, 0.7052746415138245, 0.17631866037845612, 0.8950944542884827, 0.9424194097518921, 0.5998621582984924, 0.16052649915218353, 0.06759010255336761, 0.16897526383399963, 0.29507702589035034, 0.1686154454946518, 0.5058463215827942, 0.927596390247345, 0.11723008751869202, 0.38099777698516846, 0.26376768946647644, 0.20515264570713043, 0.17949740588665009, 0.7179896235466003, 0.2368030548095703, 0.11840152740478516, 0.5920076370239258, 0.177178293466568, 0.708713173866272, 0.178159698843956, 0.11877313256263733, 0.6532522439956665, 0.09854919463396072, 0.8869428038597107, 0.49934473633766174, 0.43692663311958313, 0.14626377820968628, 0.789824366569519, 0.029252754524350166, 0.27938100695610046, 0.023281749337911606, 0.3259444832801819, 0.3259444832801819, 0.04656349867582321, 0.1770678460597992, 0.1770678460597992, 0.5312035083770752, 0.9309237599372864, 0.8814250230789185, 0.24576880037784576, 0.4096146821975708, 0.08192293345928192, 0.21846115589141846, 0.027307644486427307, 0.9515953660011292, 0.1699855625629425, 0.20776014029979706, 0.1699855625629425, 0.39663299918174744, 0.056661855429410934, 0.06597800552845001, 0.5938020348548889, 0.26391202211380005, 0.1410302072763443, 0.2820604145526886, 0.49360576272010803, 0.2369387447834015, 0.7108162641525269, 0.1524854451417923, 0.6709359288215637, 0.03049708716571331, 0.13723689317703247, 0.384652704000473, 0.5769791007041931, 0.15011084079742432, 0.7505542039871216, 0.1763652116060257, 0.7054608464241028, 0.9530649781227112, 0.1125236228108406, 0.3094399571418762, 0.3938326835632324, 0.1125236228108406, 0.0562618114054203, 0.8241910338401794, 0.11774157732725143, 0.6913628578186035, 0.2846788167953491, 0.15194477140903473, 0.6077790856361389, 0.633956253528595, 0.14087916910648346, 0.14087916910648346, 0.10635117441415787, 0.10635117441415787, 0.6381070613861084, 0.1688176989555359, 0.11254513263702393, 0.4501805305480957, 0.22509026527404785, 0.35068804025650024, 0.526032030582428, 0.7648877501487732, 0.15297755599021912, 0.9229157567024231, 0.895115077495575, 0.15125572681427002, 0.6050229072570801, 0.15125572681427002, 0.8880257606506348, 0.15059252083301544, 0.752962589263916, 0.11765128374099731, 0.5294307470321655, 0.11765128374099731, 0.17647692561149597, 0.05882564187049866, 0.9394498467445374, 0.8735573291778564, 0.5685962438583374, 0.35537266731262207, 0.12530790269374847, 0.06265395134687424, 0.6265395283699036, 0.06265395134687424, 0.12530790269374847, 0.0480058379471302, 0.1440175175666809, 0.5280642509460449, 0.1920233517885208, 0.3028838634490967, 0.6057677268981934, 0.8835986852645874, 0.8879891037940979, 0.06209045276045799, 0.15522612631320953, 0.37254270911216736, 0.3414974808692932, 0.06209045276045799, 0.3505275547504425, 0.46737009286880493, 0.8720162510871887, 0.3519696593284607, 0.46929284930229187, 0.2670825123786926, 0.10272404551506042, 0.10272404551506042, 0.3081721365451813, 0.18490327894687653, 0.04108961671590805, 0.1331794261932373, 0.1331794261932373, 0.6658971309661865, 0.22562938928604126, 0.2578621804714203, 0.22562938928604126, 0.06446554511785507, 0.2578621804714203, 0.13280341029167175, 0.6640170216560364, 0.13280341029167175, 0.09588458389043808, 0.8629612922668457, 0.08195874094963074, 0.9015461206436157, 0.5326582193374634, 0.43581125140190125, 0.9236728549003601, 0.6649090647697449, 0.16622726619243622, 0.08311363309621811, 0.032120294868946075, 0.9636088609695435, 0.4177796244621277, 0.31333470344543457, 0.17407484352588654, 0.06962993741035461, 0.8814337849617004, 0.9087337255477905, 0.15209992229938507, 0.7604996562004089, 0.9077251553535461, 0.06051500886678696, 0.4707569479942322, 0.03362549468874931, 0.16812747716903687, 0.3026294708251953, 0.8505467176437378, 0.0945051908493042, 0.2113611102104187, 0.026420138776302338, 0.15852083265781403, 0.26420140266418457, 0.052840277552604675, 0.2906215190887451, 0.2525109648704529, 0.21884284913539886, 0.5218560099601746, 0.8133042454719543, 0.13555070757865906, 0.8153665065765381, 0.13589441776275635, 0.9741121530532837, 0.7936782240867615, 0.13227970898151398, 0.1757444590330124, 0.1757444590330124, 0.527233362197876, 0.15023468434810638, 0.15023468434810638, 0.6009387373924255, 0.4066336750984192, 0.2033168375492096, 0.1016584187746048, 0.2541460394859314, 0.09661533683538437, 0.09661533683538437, 0.772922694683075, 0.12114876508712769, 0.6143972873687744, 0.18172314763069153, 0.08653483539819717, 0.8137912154197693, 0.13563187420368195, 0.9554006457328796, 0.9324686527252197, 0.7569392323493958, 0.15138784050941467, 0.151145800948143, 0.7557290196418762, 0.21147577464580536, 0.528689444065094, 0.10573788732290268, 0.5936045050621033, 0.2374418079853058, 0.20301111042499542, 0.20301111042499542, 0.3248177766799927, 0.12180666625499725, 0.12180666625499725, 0.1800016313791275, 0.0663163959980011, 0.0757901594042778, 0.1515803188085556, 0.360003262758255, 0.1705278605222702, 0.9716851711273193, 0.5125707387924194, 0.03942852094769478, 0.05914277955889702, 0.3351424038410187, 0.05914277955889702, 0.6622937917709351, 0.2649175226688385, 0.32089903950691223, 0.6417980790138245, 0.19971607625484467, 0.5325762033462524, 0.1331440508365631, 0.06657202541828156, 0.8880362510681152, 0.9531432390213013, 0.9830278158187866, 0.9087229371070862, 0.9282048940658569, 0.7132331132888794, 0.05705864727497101, 0.028529323637485504, 0.11411729454994202, 0.08558797091245651, 0.13224948942661285, 0.13224948942661285, 0.5289979577064514, 0.8141583800315857, 0.18092408776283264, 0.8735597133636475, 0.06652691215276718, 0.19958072900772095, 0.6652690768241882, 0.26879557967185974, 0.5375911593437195, 0.10751823335886002, 0.10751823335886002, 0.8845275640487671, 0.06804057955741882, 0.6067516207695007, 0.19678430259227753, 0.0819934606552124, 0.06559477001428604, 0.04919607564806938, 0.9553991556167603, 0.1773385852575302, 0.7093543410301208, 0.76425701379776, 0.152851402759552, 0.3501097857952118, 0.5251646637916565, 0.9332143664360046, 0.2654111385345459, 0.619292676448822, 0.15164867043495178, 0.505495548248291, 0.35384687781333923, 0.15158051252365112, 0.7579025626182556, 0.04810361936688423, 0.288621723651886, 0.288621723651886, 0.3367253541946411, 0.15207965672016144, 0.760398268699646, 0.9134073853492737, 0.19286057353019714, 0.7714422941207886, 0.7649723291397095, 0.15299446880817413, 0.05449642241001129, 0.13624104857444763, 0.19073747098445892, 0.19073747098445892, 0.3542267382144928, 0.08174463361501694, 0.11535380035638809, 0.204087495803833, 0.18634076416492462, 0.25732770562171936, 0.18634076416492462, 0.05324021726846695, 0.14683549106121063, 0.330379843711853, 0.11012661457061768, 0.40379759669303894, 0.17737242579460144, 0.5912414193153381, 0.17737242579460144, 0.10563662648200989, 0.7394564151763916, 0.10563662648200989, 0.06478691846132278, 0.12957383692264557, 0.3455302119255066, 0.043191276490688324, 0.23755203187465668, 0.19436074793338776, 0.14278315007686615, 0.5711326003074646, 0.07139157503843307, 0.21417473256587982, 0.0480479896068573, 0.7687678337097168, 0.1441439688205719, 0.7115778923034668, 0.03388466313481331, 0.23719264566898346, 0.9140661358833313, 0.08845801651477814, 0.2966788709163666, 0.08476539701223373, 0.5933577418327332, 0.10624181479215622, 0.26560452580451965, 0.4249672591686249, 0.15936271846294403, 0.2603740990161896, 0.4970778226852417, 0.23670372366905212, 0.7800042033195496, 0.0975005254149437, 0.11122328788042068, 0.11122328788042068, 0.5561164617538452, 0.22244657576084137, 0.08188679814338684, 0.8188679814338684, 0.7145209908485413, 0.17863024771213531, 0.08931512385606766, 0.11886468529701233, 0.4754587411880493, 0.23772937059402466, 0.11886468529701233, 0.07548466324806213, 0.30193865299224854, 0.15096932649612427, 0.37742331624031067, 0.35357701778411865, 0.11785900592803955, 0.4714360237121582, 0.17710396647453308, 0.7084158658981323, 0.6680067181587219, 0.2672026753425598, 0.3419255018234253, 0.5556289553642273, 0.04274068772792816, 0.04274068772792816, 0.5876680612564087, 0.3526008427143097, 0.6150133609771729, 0.3075066804885864, 0.08785904943943024, 0.05047449469566345, 0.6056939363479614, 0.25237247347831726, 0.05047449469566345, 0.15180160105228424, 0.75900799036026, 0.13388635218143463, 0.22314393520355225, 0.08925757557153702, 0.4909166395664215, 0.0811937227845192, 0.8931309580802917, 0.10163947194814682, 0.10163947194814682, 0.15245920419692993, 0.6606565713882446, 0.1771022379398346, 0.7084089517593384, 0.23549507558345795, 0.7064852714538574, 0.06612341850996017, 0.5289873480796814, 0.19837026298046112, 0.13224683701992035, 0.04219215363264084, 0.08438430726528168, 0.25315290689468384, 0.632882297039032, 0.070714570581913, 0.7778603434562683, 0.070714570581913, 0.3053330183029175, 0.38166627287864685, 0.07633325457572937, 0.15266650915145874, 0.07633325457572937, 0.883578896522522, 0.20847901701927185, 0.15635927021503448, 0.36483830213546753, 0.05211975425481796, 0.1302993893623352, 0.07817963510751724, 0.3265828788280487, 0.16329143941402435, 0.4082286059856415, 0.11660728603601456, 0.11660728603601456, 0.6996437311172485, 0.24441587924957275, 0.08147196471691132, 0.570303738117218], \"Term\": [\"acabado\", \"acabado\", \"acabado\", \"acabados\", \"adapta\", \"adapta\", \"ahora\", \"ahora\", \"ahora\", \"ahora\", \"ahora\", \"ajusta\", \"ajusta\", \"ajustar\", \"ajustar\", \"alguien\", \"alguien\", \"alguna\", \"alguna\", \"alguna\", \"amazon\", \"amazon\", \"amazon\", \"amazon\", \"anillo\", \"anuncio\", \"anuncio\", \"anuncio\", \"apenas\", \"apenas\", \"art\\u00edculo\", \"art\\u00edculo\", \"art\\u00edculo\", \"art\\u00edculo\", \"asi\", \"as\\u00ed\", \"as\\u00ed\", \"as\\u00ed\", \"as\\u00ed\", \"as\\u00ed\", \"as\\u00ed\", \"aun\", \"aun\", \"aun\", \"aunque\", \"aunque\", \"aunque\", \"aunque\", \"aunque\", \"aunque\", \"auriculares\", \"auriculares\", \"ayuda\", \"ayuda\", \"a\\u00f1os\", \"a\\u00f1os\", \"a\\u00f1os\", \"a\\u00f1os\", \"bajo\", \"barato\", \"bastante\", \"bastante\", \"bastante\", \"bastante\", \"bastante\", \"bien\", \"bien\", \"bien\", \"bien\", \"bien\", \"bien\", \"bien\", \"bonita\", \"bonita\", \"bonitas\", \"bonitas\", \"bonito\", \"bonito\", \"bonitos\", \"botones\", \"botones\", \"botones\", \"botones\", \"bot\\u00f3n\", \"bot\\u00f3n\", \"bot\\u00f3n\", \"brillo\", \"brillo\", \"buen\", \"buen\", \"buen\", \"buena\", \"bueno\", \"bueno\", \"bueno\", \"bueno\", \"buenos\", \"buenos\", \"cadena\", \"cadena\", \"cadena\", \"cadena\", \"caja\", \"caja\", \"caja\", \"caja\", \"cajita\", \"cajita\", \"calidad\", \"calidad\", \"calidad\", \"calidad\", \"calidad\", \"cargador\", \"cargador\", \"caro\", \"caro\", \"caro\", \"caro\", \"caso\", \"caso\", \"caso\", \"caso\", \"castellano\", \"castellano\", \"cd\", \"cd\", \"cd\", \"certificado\", \"certificado\", \"cierra\", \"cierra\", \"cierre\", \"cierre\", \"cierre\", \"colgante\", \"colgante\", \"colgante\", \"collar\", \"collar\", \"collar\", \"collar\", \"color\", \"color\", \"completo\", \"completo\", \"compra\", \"compra\", \"compra\", \"compra\", \"comprado\", \"comprado\", \"comprado\", \"comprado\", \"comprado\", \"compras\", \"compr\\u00e9\", \"compr\\u00e9\", \"compr\\u00e9\", \"compr\\u00e9\", \"compr\\u00e9\", \"condiciones\", \"conjunto\", \"consola\", \"consola\", \"consola\", \"consola\", \"correctamente\", \"correctamente\", \"correctamente\", \"corresponde\", \"corresponde\", \"cosas\", \"cosas\", \"costado\", \"costado\", \"cualquier\", \"cualquier\", \"cuanto\", \"cuanto\", \"cuanto\", \"cuanto\", \"cuenta\", \"cuenta\", \"cuesta\", \"cuesta\", \"cuidado\", \"cuidado\", \"cuidado\", \"cumple\", \"cumple\", \"cumple\", \"cumple\", \"c\\u00f3mo\", \"c\\u00f3mo\", \"c\\u00f3mo\", \"c\\u00f3modos\", \"c\\u00f3modos\", \"decir\", \"decir\", \"decir\", \"decir\", \"dedo\", \"dedo\", \"demasiado\", \"demasiado\", \"demasiado\", \"despu\\u00e9s\", \"despu\\u00e9s\", \"despu\\u00e9s\", \"despu\\u00e9s\", \"despu\\u00e9s\", \"detalle\", \"detalle\", \"devoluci\\u00f3n\", \"devoluci\\u00f3n\", \"devolver\", \"devolver\", \"devolver\", \"devolver\", \"devuelto\", \"devuelto\", \"dicen\", \"dinero\", \"dinero\", \"dinero\", \"disco\", \"disco\", \"disco\", \"dise\\u00f1o\", \"dise\\u00f1o\", \"dorado\", \"dos\", \"dos\", \"dos\", \"dos\", \"dos\", \"doy\", \"doy\", \"duda\", \"duda\", \"dura\", \"d\\u00eda\", \"d\\u00eda\", \"d\\u00eda\", \"d\\u00eda\", \"d\\u00edas\", \"d\\u00edas\", \"d\\u00edas\", \"edici\\u00f3n\", \"edici\\u00f3n\", \"elegante\", \"elegante\", \"elegantes\", \"empresa\", \"empresa\", \"encajan\", \"encajan\", \"encanta\", \"encantada\", \"encantado\", \"encantado\", \"encontr\\u00e9\", \"encontr\\u00e9\", \"encontr\\u00e9\", \"enga\\u00f1o\", \"enseguida\", \"enseguida\", \"entrega\", \"entrega\", \"entregado\", \"entregado\", \"entretenido\", \"entretenido\", \"entretenido\", \"env\\u00edo\", \"env\\u00edo\", \"env\\u00edo\", \"espa\\u00f1ol\", \"espa\\u00f1ol\", \"espa\\u00f1ola\", \"espa\\u00f1ola\", \"esperaba\", \"esperaba\", \"esperaba\", \"esperaba\", \"esperado\", \"esperando\", \"exactamente\", \"exactamente\", \"excelente\", \"excelente\", \"excelente\", \"expectativas\", \"expectativas\", \"expectativas\", \"familia\", \"fea\", \"fea\", \"fin\", \"foto\", \"foto\", \"foto\", \"foto\", \"fotos\", \"fotos\", \"fotos\", \"fotos\", \"funciona\", \"funciona\", \"funciona\", \"funciona\", \"funcionar\", \"funcionar\", \"funci\\u00f3n\", \"funci\\u00f3n\", \"funda\", \"funda\", \"funda\", \"funda\", \"gente\", \"gente\", \"gracias\", \"gracias\", \"gracias\", \"gracias\", \"grande\", \"grande\", \"grande\", \"grandes\", \"grandes\", \"grandes\", \"grandes\", \"gr\\u00e1ficos\", \"gusta\", \"gusta\", \"gusta\", \"gusta\", \"gustado\", \"gustado\", \"gustado\", \"gustado\", \"gustado\", \"gusto\", \"gusto\", \"gusto\", \"gusto\", \"hace\", \"hace\", \"hace\", \"hace\", \"hace\", \"hacen\", \"hacen\", \"hacen\", \"hacer\", \"hacer\", \"hacer\", \"hacer\", \"hija\", \"hija\", \"hijo\", \"hijo\", \"hola\", \"hola\", \"hola\", \"horas\", \"horas\", \"horas\", \"hoy\", \"hoy\", \"igualmente\", \"igualmente\", \"ingles\", \"ingl\\u00e9s\", \"ingl\\u00e9s\", \"ir\", \"italiano\", \"juego\", \"juego\", \"juego\", \"juego\", \"juegos\", \"juegos\", \"juegos\", \"jugando\", \"jugar\", \"jugar\", \"jugar\", \"jugar\", \"junto\", \"junto\", \"lado\", \"lado\", \"lado\", \"lamentable\", \"lamentable\", \"llega\", \"llega\", \"llega\", \"llegado\", \"llegado\", \"llegar\", \"llegar\", \"llego\", \"llego\", \"llego\", \"lleg\\u00f3\", \"lleg\\u00f3\", \"lleg\\u00f3\", \"lleg\\u00f3\", \"lleg\\u00f3\", \"llevas\", \"llevas\", \"llevas\", \"llevo\", \"luces\", \"mal\", \"mal\", \"mal\", \"mal\", \"mal\", \"mala\", \"mando\", \"mando\", \"mando\", \"mando\", \"mando\", \"mandos\", \"mandos\", \"mandos\", \"mano\", \"mano\", \"mano\", \"marca\", \"marca\", \"mas\", \"mas\", \"mas\", \"mas\", \"material\", \"material\", \"mayor\", \"mayor\", \"media\", \"media\", \"medida\", \"mejor\", \"mejor\", \"mejor\", \"mejor\", \"mejor\", \"mejores\", \"mejores\", \"menos\", \"menos\", \"merece\", \"merece\", \"mes\", \"mes\", \"mes\", \"misma\", \"misma\", \"misma\", \"mismo\", \"mismo\", \"mismo\", \"mismo\", \"mont\\u00f3n\", \"mont\\u00f3n\", \"much\\u00edsimo\", \"much\\u00edsimo\", \"mujer\", \"mu\\u00f1eca\", \"m\\u00f3viles\", \"m\\u00f3viles\", \"m\\u00f3viles\", \"negra\", \"ningun\", \"ningun\", \"ning\\u00fan\", \"ning\\u00fan\", \"ning\\u00fan\", \"ning\\u00fan\", \"ning\\u00fan\", \"nintendo\", \"ni\\u00f1os\", \"nota\", \"nota\", \"nuevo\", \"nuevo\", \"nuevo\", \"nuevo\", \"nuevo\", \"nunca\", \"nunca\", \"nunca\", \"nunca\", \"one\", \"one\", \"opinar\", \"opini\\u00f3n\", \"original\", \"original\", \"original\", \"original\", \"original\", \"originales\", \"originales\", \"pandora\", \"par\", \"par\", \"parece\", \"parece\", \"parece\", \"parece\", \"parece\", \"parece\", \"parecido\", \"parecido\", \"parecido\", \"parte\", \"parte\", \"parte\", \"parte\", \"parte\", \"pasado\", \"pasado\", \"pasado\", \"pc\", \"pc\", \"pedido\", \"pedido\", \"pedir\", \"pedir\", \"ped\\u00ed\", \"pega\", \"pega\", \"pega\", \"pena\", \"pena\", \"pendientes\", \"pendientes\", \"pendientes\", \"pendientes\", \"pensaba\", \"pens\\u00e9\", \"peor\", \"peor\", \"peque\\u00f1a\", \"peque\\u00f1a\", \"peque\\u00f1o\", \"peque\\u00f1o\", \"peque\\u00f1o\", \"peque\\u00f1o\", \"peque\\u00f1os\", \"peque\\u00f1os\", \"perfectamente\", \"perfectamente\", \"perfectamente\", \"perfectamente\", \"perfectamente\", \"perfectamente\", \"perfecto\", \"perfecto\", \"perfecto\", \"pesan\", \"pesan\", \"peso\", \"peso\", \"plata\", \"play\", \"play\", \"pocas\", \"pocas\", \"pocas\", \"ponen\", \"ponen\", \"ponen\", \"poner\", \"poner\", \"poner\", \"poner\", \"pongo\", \"pongo\", \"pongo\", \"precio\", \"precio\", \"precio\", \"precio\", \"preciosos\", \"preciosos\", \"presentaci\\u00f3n\", \"previsto\", \"prime\", \"prime\", \"primera\", \"primera\", \"principio\", \"principio\", \"principio\", \"pro\", \"pro\", \"problema\", \"problema\", \"problema\", \"problema\", \"problema\", \"producto\", \"producto\", \"producto\", \"producto\", \"producto\", \"producto\", \"ps\", \"puede\", \"puede\", \"puede\", \"puede\", \"puede\", \"pueden\", \"pueden\", \"puedo\", \"puedo\", \"pues\", \"pues\", \"pues\", \"pues\", \"puesta\", \"puestos\", \"pulsera\", \"p\\u00e9simo\", \"q\", \"queda\", \"queda\", \"queda\", \"queda\", \"queda\", \"quedado\", \"quedado\", \"quedado\", \"quedan\", \"quedan\", \"rato\", \"recibido\", \"recibido\", \"recibido\", \"recomendable\", \"recomendable\", \"recomendable\", \"recomendable\", \"regalar\", \"regalar\", \"regalo\", \"regalo\", \"regalo\", \"regalo\", \"regalo\", \"relaci\\u00f3n\", \"repartidor\", \"repartidor\", \"respecto\", \"respecto\", \"rompio\", \"rompio\", \"rosa\", \"rota\", \"rota\", \"roto\", \"roto\", \"roto\", \"ruido\", \"ruido\", \"r\\u00e1pido\", \"r\\u00e1pido\", \"r\\u00e1pido\", \"r\\u00e1pido\", \"segundo\", \"segundo\", \"seg\\u00fan\", \"semana\", \"semana\", \"semanas\", \"semanas\", \"ser\", \"ser\", \"ser\", \"ser\", \"ser\", \"ser\", \"si\", \"si\", \"si\", \"si\", \"si\", \"si\", \"sido\", \"sido\", \"sido\", \"sido\", \"siempre\", \"siempre\", \"siempre\", \"sigue\", \"sigue\", \"sigue\", \"solo\", \"solo\", \"solo\", \"solo\", \"solo\", \"solo\", \"sonido\", \"sonido\", \"sonido\", \"sonido\", \"switch\", \"switch\", \"switch\", \"tal\", \"tal\", \"tal\", \"tama\\u00f1o\", \"tama\\u00f1o\", \"tan\", \"tan\", \"tan\", \"tener\", \"tener\", \"tener\", \"tener\", \"tiempo\", \"tiempo\", \"tiempo\", \"toda\", \"toda\", \"todas\", \"todas\", \"todas\", \"todas\", \"todav\\u00eda\", \"todav\\u00eda\", \"totalmente\", \"totalmente\", \"totalmente\", \"trae\", \"trae\", \"trae\", \"trae\", \"tres\", \"tres\", \"tres\", \"tres\", \"unas\", \"unas\", \"unas\", \"usado\", \"usado\", \"usb\", \"usb\", \"uso\", \"uso\", \"uso\", \"uso\", \"utilizar\", \"utilizar\", \"va\", \"va\", \"va\", \"vale\", \"vale\", \"vale\", \"vale\", \"valen\", \"valen\", \"ve\", \"ve\", \"ve\", \"ve\", \"veces\", \"veces\", \"vendedor\", \"vendedor\", \"vendedor\", \"vendedor\", \"venido\", \"venido\", \"veo\", \"veo\", \"ver\", \"ver\", \"ver\", \"ver\", \"verdad\", \"verdad\", \"verdad\", \"verdad\", \"versi\\u00f3n\", \"versi\\u00f3n\", \"versi\\u00f3n\", \"vez\", \"vez\", \"vez\", \"vez\", \"vez\", \"videojuegos\", \"viene\", \"viene\", \"viene\", \"viene\", \"viene\", \"viene\", \"vienen\", \"vienen\", \"vienen\", \"voy\", \"voy\", \"voy\", \"xbox\", \"xbox\", \"xbox\"]}, \"R\": 30, \"lambda.step\": 0.01, \"plot.opts\": {\"xlab\": \"PC1\", \"ylab\": \"PC2\"}, \"topic.order\": [6, 5, 2, 7, 4, 3, 1]};\n",
       "\n",
       "function LDAvis_load_lib(url, callback){\n",
       "  var s = document.createElement('script');\n",
       "  s.src = url;\n",
       "  s.async = true;\n",
       "  s.onreadystatechange = s.onload = callback;\n",
       "  s.onerror = function(){console.warn(\"failed to load library \" + url);};\n",
       "  document.getElementsByTagName(\"head\")[0].appendChild(s);\n",
       "}\n",
       "\n",
       "if(typeof(LDAvis) !== \"undefined\"){\n",
       "   // already loaded: just create the visualization\n",
       "   !function(LDAvis){\n",
       "       new LDAvis(\"#\" + \"ldavis_el933622347250113447171860242\", ldavis_el933622347250113447171860242_data);\n",
       "   }(LDAvis);\n",
       "}else if(typeof define === \"function\" && define.amd){\n",
       "   // require.js is available: use it to load d3/LDAvis\n",
       "   require.config({paths: {d3: \"https://cdnjs.cloudflare.com/ajax/libs/d3/3.5.5/d3.min\"}});\n",
       "   require([\"d3\"], function(d3){\n",
       "      window.d3 = d3;\n",
       "      LDAvis_load_lib(\"https://cdn.rawgit.com/bmabey/pyLDAvis/files/ldavis.v1.0.0.js\", function(){\n",
       "        new LDAvis(\"#\" + \"ldavis_el933622347250113447171860242\", ldavis_el933622347250113447171860242_data);\n",
       "      });\n",
       "    });\n",
       "}else{\n",
       "    // require.js not available: dynamically load d3 & LDAvis\n",
       "    LDAvis_load_lib(\"https://cdnjs.cloudflare.com/ajax/libs/d3/3.5.5/d3.min.js\", function(){\n",
       "         LDAvis_load_lib(\"https://cdn.rawgit.com/bmabey/pyLDAvis/files/ldavis.v1.0.0.js\", function(){\n",
       "                 new LDAvis(\"#\" + \"ldavis_el933622347250113447171860242\", ldavis_el933622347250113447171860242_data);\n",
       "            })\n",
       "         });\n",
       "}\n",
       "</script>"
      ],
      "text/plain": [
       "<IPython.core.display.HTML object>"
      ]
     },
     "execution_count": 8,
     "metadata": {},
     "output_type": "execute_result"
    }
   ],
   "source": [
    "lda_display = pyLDAvis.gensim.prepare(model, corpus, dictionary, sort_topics=True)\n",
    "pyLDAvis.display(lda_display)"
   ]
  },
  {
   "cell_type": "markdown",
   "metadata": {},
   "source": [
    "### Procesando datos "
   ]
  },
  {
   "cell_type": "code",
   "execution_count": 9,
   "metadata": {},
   "outputs": [],
   "source": [
    "def get_doc_top_n(text_processed, n):\n",
    "    d = dictionary.doc2bow(text_processed)\n",
    "    topics = dict(model.get_document_topics(d))\n",
    "    try:\n",
    "        return topic[n]\n",
    "    except:\n",
    "        return None"
   ]
  },
  {
   "cell_type": "code",
   "execution_count": 10,
   "metadata": {},
   "outputs": [],
   "source": [
    "for t in range(0,7):\n",
    "    top_name = f\"topic_{t}\"\n",
    "    data[top_name] = data['Processed'].apply(lambda doc: get_doc_top_n(doc,t))"
   ]
  },
  {
   "cell_type": "markdown",
   "metadata": {},
   "source": [
    "### Visualizando datos."
   ]
  },
  {
   "cell_type": "code",
   "execution_count": 11,
   "metadata": {},
   "outputs": [
    {
     "name": "stdout",
     "output_type": "stream",
     "text": [
      "****************************** TOPIC 0 ******************************\n",
      "review_body #1\n",
      "Buen. Buena calidad, y buena presentación.\n",
      "\n",
      "review_body #2\n",
      "Un producto a perfecto, para salir de casa con la Nintendo switch\n",
      "\n",
      "review_body #3\n",
      "No funciona con Nintendo Switch. No hay forma de emparejarlo para poder jugar.\n",
      "\n",
      "review_body #4\n",
      "Recomendado, los utilizo para pc y no me dan ningún problema, se oye bien y te oyen bien\n",
      "\n",
      "review_body #5\n",
      "El cable funciona bien podria ser un poco mas largo pero se adapta perfectamente a la descripcion.envio muy rapido muy recomendado\n",
      "\n",
      "\n",
      "****************************** TOPIC 1 ******************************\n",
      "review_body #1\n",
      "Buen. Buena calidad, y buena presentación.\n",
      "\n",
      "review_body #2\n",
      "Un producto a perfecto, para salir de casa con la Nintendo switch\n",
      "\n",
      "review_body #3\n",
      "No funciona con Nintendo Switch. No hay forma de emparejarlo para poder jugar.\n",
      "\n",
      "review_body #4\n",
      "Recomendado, los utilizo para pc y no me dan ningún problema, se oye bien y te oyen bien\n",
      "\n",
      "review_body #5\n",
      "El cable funciona bien podria ser un poco mas largo pero se adapta perfectamente a la descripcion.envio muy rapido muy recomendado\n",
      "\n",
      "\n",
      "****************************** TOPIC 2 ******************************\n",
      "review_body #1\n",
      "Buen. Buena calidad, y buena presentación.\n",
      "\n",
      "review_body #2\n",
      "Un producto a perfecto, para salir de casa con la Nintendo switch\n",
      "\n",
      "review_body #3\n",
      "No funciona con Nintendo Switch. No hay forma de emparejarlo para poder jugar.\n",
      "\n",
      "review_body #4\n",
      "Recomendado, los utilizo para pc y no me dan ningún problema, se oye bien y te oyen bien\n",
      "\n",
      "review_body #5\n",
      "El cable funciona bien podria ser un poco mas largo pero se adapta perfectamente a la descripcion.envio muy rapido muy recomendado\n",
      "\n",
      "\n",
      "****************************** TOPIC 3 ******************************\n",
      "review_body #1\n",
      "Buen. Buena calidad, y buena presentación.\n",
      "\n",
      "review_body #2\n",
      "Un producto a perfecto, para salir de casa con la Nintendo switch\n",
      "\n",
      "review_body #3\n",
      "No funciona con Nintendo Switch. No hay forma de emparejarlo para poder jugar.\n",
      "\n",
      "review_body #4\n",
      "Recomendado, los utilizo para pc y no me dan ningún problema, se oye bien y te oyen bien\n",
      "\n",
      "review_body #5\n",
      "El cable funciona bien podria ser un poco mas largo pero se adapta perfectamente a la descripcion.envio muy rapido muy recomendado\n",
      "\n",
      "\n",
      "****************************** TOPIC 4 ******************************\n",
      "review_body #1\n",
      "Buen. Buena calidad, y buena presentación.\n",
      "\n",
      "review_body #2\n",
      "Un producto a perfecto, para salir de casa con la Nintendo switch\n",
      "\n",
      "review_body #3\n",
      "No funciona con Nintendo Switch. No hay forma de emparejarlo para poder jugar.\n",
      "\n",
      "review_body #4\n",
      "Recomendado, los utilizo para pc y no me dan ningún problema, se oye bien y te oyen bien\n",
      "\n",
      "review_body #5\n",
      "El cable funciona bien podria ser un poco mas largo pero se adapta perfectamente a la descripcion.envio muy rapido muy recomendado\n",
      "\n",
      "\n",
      "****************************** TOPIC 5 ******************************\n",
      "review_body #1\n",
      "Buen. Buena calidad, y buena presentación.\n",
      "\n",
      "review_body #2\n",
      "Un producto a perfecto, para salir de casa con la Nintendo switch\n",
      "\n",
      "review_body #3\n",
      "No funciona con Nintendo Switch. No hay forma de emparejarlo para poder jugar.\n",
      "\n",
      "review_body #4\n",
      "Recomendado, los utilizo para pc y no me dan ningún problema, se oye bien y te oyen bien\n",
      "\n",
      "review_body #5\n",
      "El cable funciona bien podria ser un poco mas largo pero se adapta perfectamente a la descripcion.envio muy rapido muy recomendado\n",
      "\n",
      "\n",
      "****************************** TOPIC 6 ******************************\n",
      "review_body #1\n",
      "Buen. Buena calidad, y buena presentación.\n",
      "\n",
      "review_body #2\n",
      "Un producto a perfecto, para salir de casa con la Nintendo switch\n",
      "\n",
      "review_body #3\n",
      "No funciona con Nintendo Switch. No hay forma de emparejarlo para poder jugar.\n",
      "\n",
      "review_body #4\n",
      "Recomendado, los utilizo para pc y no me dan ningún problema, se oye bien y te oyen bien\n",
      "\n",
      "review_body #5\n",
      "El cable funciona bien podria ser un poco mas largo pero se adapta perfectamente a la descripcion.envio muy rapido muy recomendado\n",
      "\n",
      "\n"
     ]
    }
   ],
   "source": [
    "for t in range(0,7):\n",
    "    print(f\"****************************** TOPIC {t} ******************************\")\n",
    "    for i,row in enumerate(data.sort_values(f\"topic_{t}\", ascending=False)['review_body'].head()):\n",
    "        print(f\"review_body #{i+1}\")\n",
    "        print(row[:500])\n",
    "        print()\n",
    "    print()"
   ]
  }
 ],
 "metadata": {
  "kernelspec": {
   "display_name": "Python 3",
   "language": "python",
   "name": "python3"
  },
  "language_info": {
   "codemirror_mode": {
    "name": "ipython",
    "version": 3
   },
   "file_extension": ".py",
   "mimetype": "text/x-python",
   "name": "python",
   "nbconvert_exporter": "python",
   "pygments_lexer": "ipython3",
   "version": "3.8.3"
  }
 },
 "nbformat": 4,
 "nbformat_minor": 4
}
